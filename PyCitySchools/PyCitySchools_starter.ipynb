{
 "cells": [
  {
   "cell_type": "markdown",
   "metadata": {},
   "source": [
    "### Note\n",
    "* Instructions have been included for each segment. You do not have to follow them exactly, but they are included to help you think through the steps."
   ]
  },
  {
   "cell_type": "code",
   "execution_count": 58,
   "metadata": {},
   "outputs": [],
   "source": [
    "# Dependencies and Setup\n",
    "import pandas as pd\n",
    "\n",
    "# File to Load \n",
    "school_data_to_load = \"Resources/schools_complete.csv\"\n",
    "student_data_to_load = \"Resources/students_complete.csv\"\n",
    "\n",
    "# Read School and Student Data File and store into Pandas DataFrames\n",
    "school_data = pd.read_csv(school_data_to_load)\n",
    "student_data = pd.read_csv(student_data_to_load)\n",
    "\n",
    "# Combine the data into a single dataset.  \n",
    "school_data_complete = pd.merge(student_data, school_data, how=\"left\", on=[\"school_name\", \"school_name\"])"
   ]
  },
  {
   "cell_type": "markdown",
   "metadata": {},
   "source": [
    "## District Summary\n",
    "\n",
    "* Calculate the total number of schools\n",
    "\n",
    "* Calculate the total number of students\n",
    "\n",
    "* Calculate the total budget\n",
    "\n",
    "* Calculate the average math score \n",
    "\n",
    "* Calculate the average reading score\n",
    "\n",
    "* Calculate the percentage of students with a passing math score (70 or greater)\n",
    "\n",
    "* Calculate the percentage of students with a passing reading score (70 or greater)\n",
    "\n",
    "* Calculate the percentage of students who passed math **and** reading (% Overall Passing)\n",
    "\n",
    "* Create a dataframe to hold the above results\n",
    "\n",
    "* Optional: give the displayed data cleaner formatting"
   ]
  },
  {
   "cell_type": "code",
   "execution_count": 59,
   "metadata": {},
   "outputs": [
    {
     "data": {
      "text/html": [
       "<div>\n",
       "<style scoped>\n",
       "    .dataframe tbody tr th:only-of-type {\n",
       "        vertical-align: middle;\n",
       "    }\n",
       "\n",
       "    .dataframe tbody tr th {\n",
       "        vertical-align: top;\n",
       "    }\n",
       "\n",
       "    .dataframe thead th {\n",
       "        text-align: right;\n",
       "    }\n",
       "</style>\n",
       "<table border=\"1\" class=\"dataframe\">\n",
       "  <thead>\n",
       "    <tr style=\"text-align: right;\">\n",
       "      <th></th>\n",
       "      <th>Total Schools</th>\n",
       "      <th>Total Students</th>\n",
       "      <th>Total Budget</th>\n",
       "      <th>Average Math Score</th>\n",
       "      <th>Average Reading Score</th>\n",
       "      <th>% Passing Math</th>\n",
       "      <th>% Passing Reading</th>\n",
       "      <th>% Overall Passing</th>\n",
       "    </tr>\n",
       "  </thead>\n",
       "  <tbody>\n",
       "    <tr>\n",
       "      <td>0</td>\n",
       "      <td>15</td>\n",
       "      <td>39,170</td>\n",
       "      <td>$24,649,428.00</td>\n",
       "      <td>78.985371</td>\n",
       "      <td>81.87784</td>\n",
       "      <td>74.980853</td>\n",
       "      <td>85.805463</td>\n",
       "      <td>65.172326</td>\n",
       "    </tr>\n",
       "  </tbody>\n",
       "</table>\n",
       "</div>"
      ],
      "text/plain": [
       "   Total Schools Total Students    Total Budget Average Math Score  \\\n",
       "0             15         39,170  $24,649,428.00          78.985371   \n",
       "\n",
       "  Average Reading Score % Passing Math % Passing Reading % Overall Passing  \n",
       "0              81.87784      74.980853         85.805463         65.172326  "
      ]
     },
     "execution_count": 59,
     "metadata": {},
     "output_type": "execute_result"
    }
   ],
   "source": [
    "district_summary = pd.DataFrame([{    \n",
    "    \"Total Schools\" : len(school_data_complete[\"school_name\"].unique()),\n",
    "    \"Total Students\" : \"{:,.0f}\".format(len(school_data_complete[\"student_name\"])),\n",
    "    \"Total Budget\" : \"${:,.2f}\".format(school_data[\"budget\"].sum()),\n",
    "    \"Average Math Score\" : \"{:.6f}\".format(student_data[\"math_score\"].mean()),\n",
    "    \"Average Reading Score\" : \"{:.5f}\".format(student_data[\"reading_score\"].mean()),\n",
    "    \"% Passing Math\" : \"{:.6f}\".format((len(student_data[student_data[\"math_score\"] >= 70][\"math_score\"])/len(school_data_complete[\"student_name\"]))*100),\n",
    "    \"% Passing Reading\" : \"{:.6f}\".format((len(student_data[student_data[\"reading_score\"] >= 70][\"reading_score\"])/len(school_data_complete[\"student_name\"]))*100),\n",
    "    \"% Overall Passing\" : \"{:.6f}\".format((len(student_data[(student_data[\"math_score\"] >= 70) & (student_data[\"reading_score\"] >= 70)][\"reading_score\"])/len(school_data_complete[\"student_name\"]))*100) \n",
    "}])\n",
    "\n",
    "district_summary"
   ]
  },
  {
   "cell_type": "markdown",
   "metadata": {},
   "source": [
    "## School Summary"
   ]
  },
  {
   "cell_type": "markdown",
   "metadata": {},
   "source": [
    "* Create an overview table that summarizes key metrics about each school, including:\n",
    "  * School Name\n",
    "  * School Type\n",
    "  * Total Students\n",
    "  * Total School Budget\n",
    "  * Per Student Budget\n",
    "  * Average Math Score\n",
    "  * Average Reading Score\n",
    "  * % Passing Math\n",
    "  * % Passing Reading\n",
    "  * % Overall Passing (The percentage of students that passed math **and** reading.)\n",
    "  \n",
    "* Create a dataframe to hold the above results"
   ]
  },
  {
   "cell_type": "markdown",
   "metadata": {},
   "source": [
    "Add \"Per Student Budget\" column to the dataframe"
   ]
  },
  {
   "cell_type": "code",
   "execution_count": 60,
   "metadata": {},
   "outputs": [],
   "source": [
    "school_data[\"Per Student Budget\"] = school_data[\"budget\"]/school_data[\"size\"]\n"
   ]
  },
  {
   "cell_type": "markdown",
   "metadata": {},
   "source": [
    "Calculate average maths and reading scores for each school"
   ]
  },
  {
   "cell_type": "code",
   "execution_count": 61,
   "metadata": {},
   "outputs": [],
   "source": [
    "student_data_df = student_data[[\"school_name\",\"math_score\",\"reading_score\"]]\n",
    "student_data_group_df = student_data_df.groupby(['school_name'])\n",
    "student_data_mean_df = student_data_group_df.mean()"
   ]
  },
  {
   "cell_type": "markdown",
   "metadata": {},
   "source": [
    "Calculate \"% Passing Reading\""
   ]
  },
  {
   "cell_type": "code",
   "execution_count": 62,
   "metadata": {},
   "outputs": [],
   "source": [
    "student_data_df1 = student_data_df.groupby([\"school_name\"]).count()\n",
    "total_students = student_data_df1[\"reading_score\"]\n",
    "\n",
    "student_data_df2 = student_data_df.loc[student_data_df.reading_score >= 70].groupby([\"school_name\"]).count()\n",
    "reading_pass = student_data_df2[\"reading_score\"]\n",
    "\n",
    "reading_percentage_df = pd.DataFrame((reading_pass/total_students)*100)\n",
    "reading_percentage_df = reading_percentage_df.rename(columns = {\n",
    "    \"reading_score\":\"% Passing Reading\"\n",
    "    })"
   ]
  },
  {
   "cell_type": "markdown",
   "metadata": {},
   "source": [
    "Calculate \"% Passing Math\""
   ]
  },
  {
   "cell_type": "code",
   "execution_count": 63,
   "metadata": {},
   "outputs": [],
   "source": [
    "total_students = student_data_df1[\"math_score\"]\n",
    "student_data_df3 = student_data_df.loc[student_data_df.math_score >= 70].groupby([\"school_name\"]).count()\n",
    "math_pass = student_data_df3[\"math_score\"]\n",
    "\n",
    "math_percentage_df = pd.DataFrame((math_pass/total_students)*100)\n",
    "\n",
    "math_percentage_df = math_percentage_df.rename(columns = {\n",
    "    \"math_score\":\"% Passing Math\"\n",
    "    })\n"
   ]
  },
  {
   "cell_type": "markdown",
   "metadata": {},
   "source": [
    "Calculate \"% Overall Passing\""
   ]
  },
  {
   "cell_type": "code",
   "execution_count": 89,
   "metadata": {},
   "outputs": [],
   "source": [
    "total_students = student_data_df1[\"math_score\"]\n",
    "student_data_df4 = student_data_df.loc[(student_data_df.math_score >= 70) & (student_data_df.reading_score >= 70)].groupby([\"school_name\"]).count()\n",
    "overall_pass = student_data_df4[\"math_score\"]\n",
    "\n",
    "overall_percentage_df = pd.DataFrame((overall_pass/total_students)*100)\n",
    "overall_percentage_df = overall_percentage_df.rename(columns = {\n",
    "    \"math_score\":\"% Overall Passing\"\n",
    "    })"
   ]
  },
  {
   "cell_type": "markdown",
   "metadata": {},
   "source": [
    "Combine all components by merging each data frame"
   ]
  },
  {
   "cell_type": "code",
   "execution_count": 90,
   "metadata": {
    "scrolled": false
   },
   "outputs": [
    {
     "data": {
      "text/html": [
       "<style  type=\"text/css\" >\n",
       "    #T_5eda0eb8_aea6_11ea_a19c_04d3b0e71309row0_col0 {\n",
       "            font-weight: bold;\n",
       "        }    #T_5eda0eb8_aea6_11ea_a19c_04d3b0e71309row1_col0 {\n",
       "            font-weight: bold;\n",
       "        }    #T_5eda0eb8_aea6_11ea_a19c_04d3b0e71309row2_col0 {\n",
       "            font-weight: bold;\n",
       "        }    #T_5eda0eb8_aea6_11ea_a19c_04d3b0e71309row3_col0 {\n",
       "            font-weight: bold;\n",
       "        }    #T_5eda0eb8_aea6_11ea_a19c_04d3b0e71309row4_col0 {\n",
       "            font-weight: bold;\n",
       "        }    #T_5eda0eb8_aea6_11ea_a19c_04d3b0e71309row5_col0 {\n",
       "            font-weight: bold;\n",
       "        }    #T_5eda0eb8_aea6_11ea_a19c_04d3b0e71309row6_col0 {\n",
       "            font-weight: bold;\n",
       "        }    #T_5eda0eb8_aea6_11ea_a19c_04d3b0e71309row7_col0 {\n",
       "            font-weight: bold;\n",
       "        }    #T_5eda0eb8_aea6_11ea_a19c_04d3b0e71309row8_col0 {\n",
       "            font-weight: bold;\n",
       "        }    #T_5eda0eb8_aea6_11ea_a19c_04d3b0e71309row9_col0 {\n",
       "            font-weight: bold;\n",
       "        }    #T_5eda0eb8_aea6_11ea_a19c_04d3b0e71309row10_col0 {\n",
       "            font-weight: bold;\n",
       "        }    #T_5eda0eb8_aea6_11ea_a19c_04d3b0e71309row11_col0 {\n",
       "            font-weight: bold;\n",
       "        }    #T_5eda0eb8_aea6_11ea_a19c_04d3b0e71309row12_col0 {\n",
       "            font-weight: bold;\n",
       "        }    #T_5eda0eb8_aea6_11ea_a19c_04d3b0e71309row13_col0 {\n",
       "            font-weight: bold;\n",
       "        }    #T_5eda0eb8_aea6_11ea_a19c_04d3b0e71309row14_col0 {\n",
       "            font-weight: bold;\n",
       "        }</style><table id=\"T_5eda0eb8_aea6_11ea_a19c_04d3b0e71309\" ><thead>    <tr>        <th class=\"col_heading level0 col0\" ></th>        <th class=\"col_heading level0 col1\" >School Type</th>        <th class=\"col_heading level0 col2\" >Total Students</th>        <th class=\"col_heading level0 col3\" >Total School Budget</th>        <th class=\"col_heading level0 col4\" >Per Student Budget</th>        <th class=\"col_heading level0 col5\" >Average Math Score</th>        <th class=\"col_heading level0 col6\" >Average Reading Score</th>        <th class=\"col_heading level0 col7\" >% Passing Math</th>        <th class=\"col_heading level0 col8\" >% Passing Reading</th>        <th class=\"col_heading level0 col9\" >% Overall Passing</th>    </tr></thead><tbody>\n",
       "                <tr>\n",
       "                                <td id=\"T_5eda0eb8_aea6_11ea_a19c_04d3b0e71309row0_col0\" class=\"data row0 col0\" >Bailey High School</td>\n",
       "                        <td id=\"T_5eda0eb8_aea6_11ea_a19c_04d3b0e71309row0_col1\" class=\"data row0 col1\" >District</td>\n",
       "                        <td id=\"T_5eda0eb8_aea6_11ea_a19c_04d3b0e71309row0_col2\" class=\"data row0 col2\" >4976</td>\n",
       "                        <td id=\"T_5eda0eb8_aea6_11ea_a19c_04d3b0e71309row0_col3\" class=\"data row0 col3\" >$3,124,928.00</td>\n",
       "                        <td id=\"T_5eda0eb8_aea6_11ea_a19c_04d3b0e71309row0_col4\" class=\"data row0 col4\" >$628.00</td>\n",
       "                        <td id=\"T_5eda0eb8_aea6_11ea_a19c_04d3b0e71309row0_col5\" class=\"data row0 col5\" >77.048432</td>\n",
       "                        <td id=\"T_5eda0eb8_aea6_11ea_a19c_04d3b0e71309row0_col6\" class=\"data row0 col6\" >81.033963</td>\n",
       "                        <td id=\"T_5eda0eb8_aea6_11ea_a19c_04d3b0e71309row0_col7\" class=\"data row0 col7\" >66.680064</td>\n",
       "                        <td id=\"T_5eda0eb8_aea6_11ea_a19c_04d3b0e71309row0_col8\" class=\"data row0 col8\" >81.933280</td>\n",
       "                        <td id=\"T_5eda0eb8_aea6_11ea_a19c_04d3b0e71309row0_col9\" class=\"data row0 col9\" >54.642283</td>\n",
       "            </tr>\n",
       "            <tr>\n",
       "                                <td id=\"T_5eda0eb8_aea6_11ea_a19c_04d3b0e71309row1_col0\" class=\"data row1 col0\" >Cabrera High School</td>\n",
       "                        <td id=\"T_5eda0eb8_aea6_11ea_a19c_04d3b0e71309row1_col1\" class=\"data row1 col1\" >Charter</td>\n",
       "                        <td id=\"T_5eda0eb8_aea6_11ea_a19c_04d3b0e71309row1_col2\" class=\"data row1 col2\" >1858</td>\n",
       "                        <td id=\"T_5eda0eb8_aea6_11ea_a19c_04d3b0e71309row1_col3\" class=\"data row1 col3\" >$1,081,356.00</td>\n",
       "                        <td id=\"T_5eda0eb8_aea6_11ea_a19c_04d3b0e71309row1_col4\" class=\"data row1 col4\" >$582.00</td>\n",
       "                        <td id=\"T_5eda0eb8_aea6_11ea_a19c_04d3b0e71309row1_col5\" class=\"data row1 col5\" >83.061895</td>\n",
       "                        <td id=\"T_5eda0eb8_aea6_11ea_a19c_04d3b0e71309row1_col6\" class=\"data row1 col6\" >83.975780</td>\n",
       "                        <td id=\"T_5eda0eb8_aea6_11ea_a19c_04d3b0e71309row1_col7\" class=\"data row1 col7\" >94.133477</td>\n",
       "                        <td id=\"T_5eda0eb8_aea6_11ea_a19c_04d3b0e71309row1_col8\" class=\"data row1 col8\" >97.039828</td>\n",
       "                        <td id=\"T_5eda0eb8_aea6_11ea_a19c_04d3b0e71309row1_col9\" class=\"data row1 col9\" >91.334769</td>\n",
       "            </tr>\n",
       "            <tr>\n",
       "                                <td id=\"T_5eda0eb8_aea6_11ea_a19c_04d3b0e71309row2_col0\" class=\"data row2 col0\" >Figueroa High School</td>\n",
       "                        <td id=\"T_5eda0eb8_aea6_11ea_a19c_04d3b0e71309row2_col1\" class=\"data row2 col1\" >District</td>\n",
       "                        <td id=\"T_5eda0eb8_aea6_11ea_a19c_04d3b0e71309row2_col2\" class=\"data row2 col2\" >2949</td>\n",
       "                        <td id=\"T_5eda0eb8_aea6_11ea_a19c_04d3b0e71309row2_col3\" class=\"data row2 col3\" >$1,884,411.00</td>\n",
       "                        <td id=\"T_5eda0eb8_aea6_11ea_a19c_04d3b0e71309row2_col4\" class=\"data row2 col4\" >$639.00</td>\n",
       "                        <td id=\"T_5eda0eb8_aea6_11ea_a19c_04d3b0e71309row2_col5\" class=\"data row2 col5\" >76.711767</td>\n",
       "                        <td id=\"T_5eda0eb8_aea6_11ea_a19c_04d3b0e71309row2_col6\" class=\"data row2 col6\" >81.158020</td>\n",
       "                        <td id=\"T_5eda0eb8_aea6_11ea_a19c_04d3b0e71309row2_col7\" class=\"data row2 col7\" >65.988471</td>\n",
       "                        <td id=\"T_5eda0eb8_aea6_11ea_a19c_04d3b0e71309row2_col8\" class=\"data row2 col8\" >80.739234</td>\n",
       "                        <td id=\"T_5eda0eb8_aea6_11ea_a19c_04d3b0e71309row2_col9\" class=\"data row2 col9\" >53.204476</td>\n",
       "            </tr>\n",
       "            <tr>\n",
       "                                <td id=\"T_5eda0eb8_aea6_11ea_a19c_04d3b0e71309row3_col0\" class=\"data row3 col0\" >Ford High School</td>\n",
       "                        <td id=\"T_5eda0eb8_aea6_11ea_a19c_04d3b0e71309row3_col1\" class=\"data row3 col1\" >District</td>\n",
       "                        <td id=\"T_5eda0eb8_aea6_11ea_a19c_04d3b0e71309row3_col2\" class=\"data row3 col2\" >2739</td>\n",
       "                        <td id=\"T_5eda0eb8_aea6_11ea_a19c_04d3b0e71309row3_col3\" class=\"data row3 col3\" >$1,763,916.00</td>\n",
       "                        <td id=\"T_5eda0eb8_aea6_11ea_a19c_04d3b0e71309row3_col4\" class=\"data row3 col4\" >$644.00</td>\n",
       "                        <td id=\"T_5eda0eb8_aea6_11ea_a19c_04d3b0e71309row3_col5\" class=\"data row3 col5\" >77.102592</td>\n",
       "                        <td id=\"T_5eda0eb8_aea6_11ea_a19c_04d3b0e71309row3_col6\" class=\"data row3 col6\" >80.746258</td>\n",
       "                        <td id=\"T_5eda0eb8_aea6_11ea_a19c_04d3b0e71309row3_col7\" class=\"data row3 col7\" >68.309602</td>\n",
       "                        <td id=\"T_5eda0eb8_aea6_11ea_a19c_04d3b0e71309row3_col8\" class=\"data row3 col8\" >79.299014</td>\n",
       "                        <td id=\"T_5eda0eb8_aea6_11ea_a19c_04d3b0e71309row3_col9\" class=\"data row3 col9\" >54.289887</td>\n",
       "            </tr>\n",
       "            <tr>\n",
       "                                <td id=\"T_5eda0eb8_aea6_11ea_a19c_04d3b0e71309row4_col0\" class=\"data row4 col0\" >Griffin High School</td>\n",
       "                        <td id=\"T_5eda0eb8_aea6_11ea_a19c_04d3b0e71309row4_col1\" class=\"data row4 col1\" >Charter</td>\n",
       "                        <td id=\"T_5eda0eb8_aea6_11ea_a19c_04d3b0e71309row4_col2\" class=\"data row4 col2\" >1468</td>\n",
       "                        <td id=\"T_5eda0eb8_aea6_11ea_a19c_04d3b0e71309row4_col3\" class=\"data row4 col3\" >$917,500.00</td>\n",
       "                        <td id=\"T_5eda0eb8_aea6_11ea_a19c_04d3b0e71309row4_col4\" class=\"data row4 col4\" >$625.00</td>\n",
       "                        <td id=\"T_5eda0eb8_aea6_11ea_a19c_04d3b0e71309row4_col5\" class=\"data row4 col5\" >83.351499</td>\n",
       "                        <td id=\"T_5eda0eb8_aea6_11ea_a19c_04d3b0e71309row4_col6\" class=\"data row4 col6\" >83.816757</td>\n",
       "                        <td id=\"T_5eda0eb8_aea6_11ea_a19c_04d3b0e71309row4_col7\" class=\"data row4 col7\" >93.392371</td>\n",
       "                        <td id=\"T_5eda0eb8_aea6_11ea_a19c_04d3b0e71309row4_col8\" class=\"data row4 col8\" >97.138965</td>\n",
       "                        <td id=\"T_5eda0eb8_aea6_11ea_a19c_04d3b0e71309row4_col9\" class=\"data row4 col9\" >90.599455</td>\n",
       "            </tr>\n",
       "            <tr>\n",
       "                                <td id=\"T_5eda0eb8_aea6_11ea_a19c_04d3b0e71309row5_col0\" class=\"data row5 col0\" >Hernandez High School</td>\n",
       "                        <td id=\"T_5eda0eb8_aea6_11ea_a19c_04d3b0e71309row5_col1\" class=\"data row5 col1\" >District</td>\n",
       "                        <td id=\"T_5eda0eb8_aea6_11ea_a19c_04d3b0e71309row5_col2\" class=\"data row5 col2\" >4635</td>\n",
       "                        <td id=\"T_5eda0eb8_aea6_11ea_a19c_04d3b0e71309row5_col3\" class=\"data row5 col3\" >$3,022,020.00</td>\n",
       "                        <td id=\"T_5eda0eb8_aea6_11ea_a19c_04d3b0e71309row5_col4\" class=\"data row5 col4\" >$652.00</td>\n",
       "                        <td id=\"T_5eda0eb8_aea6_11ea_a19c_04d3b0e71309row5_col5\" class=\"data row5 col5\" >77.289752</td>\n",
       "                        <td id=\"T_5eda0eb8_aea6_11ea_a19c_04d3b0e71309row5_col6\" class=\"data row5 col6\" >80.934412</td>\n",
       "                        <td id=\"T_5eda0eb8_aea6_11ea_a19c_04d3b0e71309row5_col7\" class=\"data row5 col7\" >66.752967</td>\n",
       "                        <td id=\"T_5eda0eb8_aea6_11ea_a19c_04d3b0e71309row5_col8\" class=\"data row5 col8\" >80.862999</td>\n",
       "                        <td id=\"T_5eda0eb8_aea6_11ea_a19c_04d3b0e71309row5_col9\" class=\"data row5 col9\" >53.527508</td>\n",
       "            </tr>\n",
       "            <tr>\n",
       "                                <td id=\"T_5eda0eb8_aea6_11ea_a19c_04d3b0e71309row6_col0\" class=\"data row6 col0\" >Holden High School</td>\n",
       "                        <td id=\"T_5eda0eb8_aea6_11ea_a19c_04d3b0e71309row6_col1\" class=\"data row6 col1\" >Charter</td>\n",
       "                        <td id=\"T_5eda0eb8_aea6_11ea_a19c_04d3b0e71309row6_col2\" class=\"data row6 col2\" >427</td>\n",
       "                        <td id=\"T_5eda0eb8_aea6_11ea_a19c_04d3b0e71309row6_col3\" class=\"data row6 col3\" >$248,087.00</td>\n",
       "                        <td id=\"T_5eda0eb8_aea6_11ea_a19c_04d3b0e71309row6_col4\" class=\"data row6 col4\" >$581.00</td>\n",
       "                        <td id=\"T_5eda0eb8_aea6_11ea_a19c_04d3b0e71309row6_col5\" class=\"data row6 col5\" >83.803279</td>\n",
       "                        <td id=\"T_5eda0eb8_aea6_11ea_a19c_04d3b0e71309row6_col6\" class=\"data row6 col6\" >83.814988</td>\n",
       "                        <td id=\"T_5eda0eb8_aea6_11ea_a19c_04d3b0e71309row6_col7\" class=\"data row6 col7\" >92.505855</td>\n",
       "                        <td id=\"T_5eda0eb8_aea6_11ea_a19c_04d3b0e71309row6_col8\" class=\"data row6 col8\" >96.252927</td>\n",
       "                        <td id=\"T_5eda0eb8_aea6_11ea_a19c_04d3b0e71309row6_col9\" class=\"data row6 col9\" >89.227166</td>\n",
       "            </tr>\n",
       "            <tr>\n",
       "                                <td id=\"T_5eda0eb8_aea6_11ea_a19c_04d3b0e71309row7_col0\" class=\"data row7 col0\" >Huang High School</td>\n",
       "                        <td id=\"T_5eda0eb8_aea6_11ea_a19c_04d3b0e71309row7_col1\" class=\"data row7 col1\" >District</td>\n",
       "                        <td id=\"T_5eda0eb8_aea6_11ea_a19c_04d3b0e71309row7_col2\" class=\"data row7 col2\" >2917</td>\n",
       "                        <td id=\"T_5eda0eb8_aea6_11ea_a19c_04d3b0e71309row7_col3\" class=\"data row7 col3\" >$1,910,635.00</td>\n",
       "                        <td id=\"T_5eda0eb8_aea6_11ea_a19c_04d3b0e71309row7_col4\" class=\"data row7 col4\" >$655.00</td>\n",
       "                        <td id=\"T_5eda0eb8_aea6_11ea_a19c_04d3b0e71309row7_col5\" class=\"data row7 col5\" >76.629414</td>\n",
       "                        <td id=\"T_5eda0eb8_aea6_11ea_a19c_04d3b0e71309row7_col6\" class=\"data row7 col6\" >81.182722</td>\n",
       "                        <td id=\"T_5eda0eb8_aea6_11ea_a19c_04d3b0e71309row7_col7\" class=\"data row7 col7\" >65.683922</td>\n",
       "                        <td id=\"T_5eda0eb8_aea6_11ea_a19c_04d3b0e71309row7_col8\" class=\"data row7 col8\" >81.316421</td>\n",
       "                        <td id=\"T_5eda0eb8_aea6_11ea_a19c_04d3b0e71309row7_col9\" class=\"data row7 col9\" >53.513884</td>\n",
       "            </tr>\n",
       "            <tr>\n",
       "                                <td id=\"T_5eda0eb8_aea6_11ea_a19c_04d3b0e71309row8_col0\" class=\"data row8 col0\" >Johnson High School</td>\n",
       "                        <td id=\"T_5eda0eb8_aea6_11ea_a19c_04d3b0e71309row8_col1\" class=\"data row8 col1\" >District</td>\n",
       "                        <td id=\"T_5eda0eb8_aea6_11ea_a19c_04d3b0e71309row8_col2\" class=\"data row8 col2\" >4761</td>\n",
       "                        <td id=\"T_5eda0eb8_aea6_11ea_a19c_04d3b0e71309row8_col3\" class=\"data row8 col3\" >$3,094,650.00</td>\n",
       "                        <td id=\"T_5eda0eb8_aea6_11ea_a19c_04d3b0e71309row8_col4\" class=\"data row8 col4\" >$650.00</td>\n",
       "                        <td id=\"T_5eda0eb8_aea6_11ea_a19c_04d3b0e71309row8_col5\" class=\"data row8 col5\" >77.072464</td>\n",
       "                        <td id=\"T_5eda0eb8_aea6_11ea_a19c_04d3b0e71309row8_col6\" class=\"data row8 col6\" >80.966394</td>\n",
       "                        <td id=\"T_5eda0eb8_aea6_11ea_a19c_04d3b0e71309row8_col7\" class=\"data row8 col7\" >66.057551</td>\n",
       "                        <td id=\"T_5eda0eb8_aea6_11ea_a19c_04d3b0e71309row8_col8\" class=\"data row8 col8\" >81.222432</td>\n",
       "                        <td id=\"T_5eda0eb8_aea6_11ea_a19c_04d3b0e71309row8_col9\" class=\"data row8 col9\" >53.539172</td>\n",
       "            </tr>\n",
       "            <tr>\n",
       "                                <td id=\"T_5eda0eb8_aea6_11ea_a19c_04d3b0e71309row9_col0\" class=\"data row9 col0\" >Pena High School</td>\n",
       "                        <td id=\"T_5eda0eb8_aea6_11ea_a19c_04d3b0e71309row9_col1\" class=\"data row9 col1\" >Charter</td>\n",
       "                        <td id=\"T_5eda0eb8_aea6_11ea_a19c_04d3b0e71309row9_col2\" class=\"data row9 col2\" >962</td>\n",
       "                        <td id=\"T_5eda0eb8_aea6_11ea_a19c_04d3b0e71309row9_col3\" class=\"data row9 col3\" >$585,858.00</td>\n",
       "                        <td id=\"T_5eda0eb8_aea6_11ea_a19c_04d3b0e71309row9_col4\" class=\"data row9 col4\" >$609.00</td>\n",
       "                        <td id=\"T_5eda0eb8_aea6_11ea_a19c_04d3b0e71309row9_col5\" class=\"data row9 col5\" >83.839917</td>\n",
       "                        <td id=\"T_5eda0eb8_aea6_11ea_a19c_04d3b0e71309row9_col6\" class=\"data row9 col6\" >84.044699</td>\n",
       "                        <td id=\"T_5eda0eb8_aea6_11ea_a19c_04d3b0e71309row9_col7\" class=\"data row9 col7\" >94.594595</td>\n",
       "                        <td id=\"T_5eda0eb8_aea6_11ea_a19c_04d3b0e71309row9_col8\" class=\"data row9 col8\" >95.945946</td>\n",
       "                        <td id=\"T_5eda0eb8_aea6_11ea_a19c_04d3b0e71309row9_col9\" class=\"data row9 col9\" >90.540541</td>\n",
       "            </tr>\n",
       "            <tr>\n",
       "                                <td id=\"T_5eda0eb8_aea6_11ea_a19c_04d3b0e71309row10_col0\" class=\"data row10 col0\" >Rodriguez High School</td>\n",
       "                        <td id=\"T_5eda0eb8_aea6_11ea_a19c_04d3b0e71309row10_col1\" class=\"data row10 col1\" >District</td>\n",
       "                        <td id=\"T_5eda0eb8_aea6_11ea_a19c_04d3b0e71309row10_col2\" class=\"data row10 col2\" >3999</td>\n",
       "                        <td id=\"T_5eda0eb8_aea6_11ea_a19c_04d3b0e71309row10_col3\" class=\"data row10 col3\" >$2,547,363.00</td>\n",
       "                        <td id=\"T_5eda0eb8_aea6_11ea_a19c_04d3b0e71309row10_col4\" class=\"data row10 col4\" >$637.00</td>\n",
       "                        <td id=\"T_5eda0eb8_aea6_11ea_a19c_04d3b0e71309row10_col5\" class=\"data row10 col5\" >76.842711</td>\n",
       "                        <td id=\"T_5eda0eb8_aea6_11ea_a19c_04d3b0e71309row10_col6\" class=\"data row10 col6\" >80.744686</td>\n",
       "                        <td id=\"T_5eda0eb8_aea6_11ea_a19c_04d3b0e71309row10_col7\" class=\"data row10 col7\" >66.366592</td>\n",
       "                        <td id=\"T_5eda0eb8_aea6_11ea_a19c_04d3b0e71309row10_col8\" class=\"data row10 col8\" >80.220055</td>\n",
       "                        <td id=\"T_5eda0eb8_aea6_11ea_a19c_04d3b0e71309row10_col9\" class=\"data row10 col9\" >52.988247</td>\n",
       "            </tr>\n",
       "            <tr>\n",
       "                                <td id=\"T_5eda0eb8_aea6_11ea_a19c_04d3b0e71309row11_col0\" class=\"data row11 col0\" >Shelton High School</td>\n",
       "                        <td id=\"T_5eda0eb8_aea6_11ea_a19c_04d3b0e71309row11_col1\" class=\"data row11 col1\" >Charter</td>\n",
       "                        <td id=\"T_5eda0eb8_aea6_11ea_a19c_04d3b0e71309row11_col2\" class=\"data row11 col2\" >1761</td>\n",
       "                        <td id=\"T_5eda0eb8_aea6_11ea_a19c_04d3b0e71309row11_col3\" class=\"data row11 col3\" >$1,056,600.00</td>\n",
       "                        <td id=\"T_5eda0eb8_aea6_11ea_a19c_04d3b0e71309row11_col4\" class=\"data row11 col4\" >$600.00</td>\n",
       "                        <td id=\"T_5eda0eb8_aea6_11ea_a19c_04d3b0e71309row11_col5\" class=\"data row11 col5\" >83.359455</td>\n",
       "                        <td id=\"T_5eda0eb8_aea6_11ea_a19c_04d3b0e71309row11_col6\" class=\"data row11 col6\" >83.725724</td>\n",
       "                        <td id=\"T_5eda0eb8_aea6_11ea_a19c_04d3b0e71309row11_col7\" class=\"data row11 col7\" >93.867121</td>\n",
       "                        <td id=\"T_5eda0eb8_aea6_11ea_a19c_04d3b0e71309row11_col8\" class=\"data row11 col8\" >95.854628</td>\n",
       "                        <td id=\"T_5eda0eb8_aea6_11ea_a19c_04d3b0e71309row11_col9\" class=\"data row11 col9\" >89.892107</td>\n",
       "            </tr>\n",
       "            <tr>\n",
       "                                <td id=\"T_5eda0eb8_aea6_11ea_a19c_04d3b0e71309row12_col0\" class=\"data row12 col0\" >Thomas High School</td>\n",
       "                        <td id=\"T_5eda0eb8_aea6_11ea_a19c_04d3b0e71309row12_col1\" class=\"data row12 col1\" >Charter</td>\n",
       "                        <td id=\"T_5eda0eb8_aea6_11ea_a19c_04d3b0e71309row12_col2\" class=\"data row12 col2\" >1635</td>\n",
       "                        <td id=\"T_5eda0eb8_aea6_11ea_a19c_04d3b0e71309row12_col3\" class=\"data row12 col3\" >$1,043,130.00</td>\n",
       "                        <td id=\"T_5eda0eb8_aea6_11ea_a19c_04d3b0e71309row12_col4\" class=\"data row12 col4\" >$638.00</td>\n",
       "                        <td id=\"T_5eda0eb8_aea6_11ea_a19c_04d3b0e71309row12_col5\" class=\"data row12 col5\" >83.418349</td>\n",
       "                        <td id=\"T_5eda0eb8_aea6_11ea_a19c_04d3b0e71309row12_col6\" class=\"data row12 col6\" >83.848930</td>\n",
       "                        <td id=\"T_5eda0eb8_aea6_11ea_a19c_04d3b0e71309row12_col7\" class=\"data row12 col7\" >93.272171</td>\n",
       "                        <td id=\"T_5eda0eb8_aea6_11ea_a19c_04d3b0e71309row12_col8\" class=\"data row12 col8\" >97.308869</td>\n",
       "                        <td id=\"T_5eda0eb8_aea6_11ea_a19c_04d3b0e71309row12_col9\" class=\"data row12 col9\" >90.948012</td>\n",
       "            </tr>\n",
       "            <tr>\n",
       "                                <td id=\"T_5eda0eb8_aea6_11ea_a19c_04d3b0e71309row13_col0\" class=\"data row13 col0\" >Wilson High School</td>\n",
       "                        <td id=\"T_5eda0eb8_aea6_11ea_a19c_04d3b0e71309row13_col1\" class=\"data row13 col1\" >Charter</td>\n",
       "                        <td id=\"T_5eda0eb8_aea6_11ea_a19c_04d3b0e71309row13_col2\" class=\"data row13 col2\" >2283</td>\n",
       "                        <td id=\"T_5eda0eb8_aea6_11ea_a19c_04d3b0e71309row13_col3\" class=\"data row13 col3\" >$1,319,574.00</td>\n",
       "                        <td id=\"T_5eda0eb8_aea6_11ea_a19c_04d3b0e71309row13_col4\" class=\"data row13 col4\" >$578.00</td>\n",
       "                        <td id=\"T_5eda0eb8_aea6_11ea_a19c_04d3b0e71309row13_col5\" class=\"data row13 col5\" >83.274201</td>\n",
       "                        <td id=\"T_5eda0eb8_aea6_11ea_a19c_04d3b0e71309row13_col6\" class=\"data row13 col6\" >83.989488</td>\n",
       "                        <td id=\"T_5eda0eb8_aea6_11ea_a19c_04d3b0e71309row13_col7\" class=\"data row13 col7\" >93.867718</td>\n",
       "                        <td id=\"T_5eda0eb8_aea6_11ea_a19c_04d3b0e71309row13_col8\" class=\"data row13 col8\" >96.539641</td>\n",
       "                        <td id=\"T_5eda0eb8_aea6_11ea_a19c_04d3b0e71309row13_col9\" class=\"data row13 col9\" >90.582567</td>\n",
       "            </tr>\n",
       "            <tr>\n",
       "                                <td id=\"T_5eda0eb8_aea6_11ea_a19c_04d3b0e71309row14_col0\" class=\"data row14 col0\" >Wright High School</td>\n",
       "                        <td id=\"T_5eda0eb8_aea6_11ea_a19c_04d3b0e71309row14_col1\" class=\"data row14 col1\" >Charter</td>\n",
       "                        <td id=\"T_5eda0eb8_aea6_11ea_a19c_04d3b0e71309row14_col2\" class=\"data row14 col2\" >1800</td>\n",
       "                        <td id=\"T_5eda0eb8_aea6_11ea_a19c_04d3b0e71309row14_col3\" class=\"data row14 col3\" >$1,049,400.00</td>\n",
       "                        <td id=\"T_5eda0eb8_aea6_11ea_a19c_04d3b0e71309row14_col4\" class=\"data row14 col4\" >$583.00</td>\n",
       "                        <td id=\"T_5eda0eb8_aea6_11ea_a19c_04d3b0e71309row14_col5\" class=\"data row14 col5\" >83.682222</td>\n",
       "                        <td id=\"T_5eda0eb8_aea6_11ea_a19c_04d3b0e71309row14_col6\" class=\"data row14 col6\" >83.955000</td>\n",
       "                        <td id=\"T_5eda0eb8_aea6_11ea_a19c_04d3b0e71309row14_col7\" class=\"data row14 col7\" >93.333333</td>\n",
       "                        <td id=\"T_5eda0eb8_aea6_11ea_a19c_04d3b0e71309row14_col8\" class=\"data row14 col8\" >96.611111</td>\n",
       "                        <td id=\"T_5eda0eb8_aea6_11ea_a19c_04d3b0e71309row14_col9\" class=\"data row14 col9\" >90.333333</td>\n",
       "            </tr>\n",
       "    </tbody></table>"
      ],
      "text/plain": [
       "<pandas.io.formats.style.Styler at 0x21fc0ce59c8>"
      ]
     },
     "execution_count": 90,
     "metadata": {},
     "output_type": "execute_result"
    }
   ],
   "source": [
    "school_summary_df = pd.merge(school_data,student_data_mean_df,on=\"school_name\")\n",
    "del school_summary_df[\"School ID\"]\n",
    "school_summary_df = pd.merge(school_summary_df,math_percentage_df,on=\"school_name\")\n",
    "school_summary_df = pd.merge(school_summary_df,reading_percentage_df,on=\"school_name\")\n",
    "school_summary_df = pd.merge(school_summary_df,overall_percentage_df,on=\"school_name\")\n",
    "school_summary_df = school_summary_df.sort_values(by=['school_name'])\n",
    "school_summary_df.style.hide_index()\n",
    "school_summary_df = school_summary_df.rename(columns = {\n",
    "    \"math_score\":\"Average Math Score\",\n",
    "    \"reading_score\":\"Average Reading Score\", \n",
    "    \"type\":\"School Type\",\n",
    "    \"size\" : \"Total Students\",\n",
    "    \"budget\": \"Total School Budget\",\n",
    "    \"school_name\": \"\"\n",
    "    })\n",
    "\n",
    "def bold_cols(s):\n",
    "    return 'font-weight:bold' \n",
    "\n",
    "school_summary_formatted_df = school_summary_df.copy()\n",
    "\n",
    "#formatting of the report\n",
    "\n",
    "format_dict = {\n",
    "    \"Total School Budget\":\"${:,.2f}\", \n",
    "    \"Per Student Budget\": \"${:,.2f}\", \n",
    "    \"Average Math Score\": \"{:,.6f}\",\n",
    "    \"Average Reading Score\": \"{:,.6f}\",\n",
    "    \"% Passing Math\": \"{:,.6f}\",\n",
    "    \"% Passing Reading\": \"{:,.6f}\",\n",
    "    \"% Overall Passing\": \"{:,.6f}\"\n",
    "    }\n",
    "               \n",
    "school_summary_formatted_df =school_summary_formatted_df.style.format(format_dict).hide_index().applymap(bold_cols, subset=pd.IndexSlice[:, ['']])\n",
    "school_summary_formatted_df\n"
   ]
  },
  {
   "cell_type": "markdown",
   "metadata": {},
   "source": [
    "## Top Performing Schools (By % Overall Passing)"
   ]
  },
  {
   "cell_type": "markdown",
   "metadata": {},
   "source": [
    "* Sort and display the top five performing schools by % overall passing."
   ]
  },
  {
   "cell_type": "code",
   "execution_count": 87,
   "metadata": {
    "scrolled": true
   },
   "outputs": [
    {
     "data": {
      "text/html": [
       "<style  type=\"text/css\" >\n",
       "    #T_4e2d8626_aea6_11ea_aae7_04d3b0e71309row0_col0 {\n",
       "            font-weight: bold;\n",
       "        }    #T_4e2d8626_aea6_11ea_aae7_04d3b0e71309row1_col0 {\n",
       "            font-weight: bold;\n",
       "        }    #T_4e2d8626_aea6_11ea_aae7_04d3b0e71309row2_col0 {\n",
       "            font-weight: bold;\n",
       "        }    #T_4e2d8626_aea6_11ea_aae7_04d3b0e71309row3_col0 {\n",
       "            font-weight: bold;\n",
       "        }    #T_4e2d8626_aea6_11ea_aae7_04d3b0e71309row4_col0 {\n",
       "            font-weight: bold;\n",
       "        }</style><table id=\"T_4e2d8626_aea6_11ea_aae7_04d3b0e71309\" ><thead>    <tr>        <th class=\"col_heading level0 col0\" ></th>        <th class=\"col_heading level0 col1\" >School Type</th>        <th class=\"col_heading level0 col2\" >Total Students</th>        <th class=\"col_heading level0 col3\" >Total School Budget</th>        <th class=\"col_heading level0 col4\" >Per Student Budget</th>        <th class=\"col_heading level0 col5\" >Average Math Score</th>        <th class=\"col_heading level0 col6\" >Average Reading Score</th>        <th class=\"col_heading level0 col7\" >% Passing Math</th>        <th class=\"col_heading level0 col8\" >% Passing Reading</th>        <th class=\"col_heading level0 col9\" >% Overall Passing</th>    </tr></thead><tbody>\n",
       "                <tr>\n",
       "                                <td id=\"T_4e2d8626_aea6_11ea_aae7_04d3b0e71309row0_col0\" class=\"data row0 col0\" >Cabrera High School</td>\n",
       "                        <td id=\"T_4e2d8626_aea6_11ea_aae7_04d3b0e71309row0_col1\" class=\"data row0 col1\" >Charter</td>\n",
       "                        <td id=\"T_4e2d8626_aea6_11ea_aae7_04d3b0e71309row0_col2\" class=\"data row0 col2\" >1858</td>\n",
       "                        <td id=\"T_4e2d8626_aea6_11ea_aae7_04d3b0e71309row0_col3\" class=\"data row0 col3\" >$1,081,356.00</td>\n",
       "                        <td id=\"T_4e2d8626_aea6_11ea_aae7_04d3b0e71309row0_col4\" class=\"data row0 col4\" >$582.00</td>\n",
       "                        <td id=\"T_4e2d8626_aea6_11ea_aae7_04d3b0e71309row0_col5\" class=\"data row0 col5\" >83.061895</td>\n",
       "                        <td id=\"T_4e2d8626_aea6_11ea_aae7_04d3b0e71309row0_col6\" class=\"data row0 col6\" >83.975780</td>\n",
       "                        <td id=\"T_4e2d8626_aea6_11ea_aae7_04d3b0e71309row0_col7\" class=\"data row0 col7\" >94.133477</td>\n",
       "                        <td id=\"T_4e2d8626_aea6_11ea_aae7_04d3b0e71309row0_col8\" class=\"data row0 col8\" >97.039828</td>\n",
       "                        <td id=\"T_4e2d8626_aea6_11ea_aae7_04d3b0e71309row0_col9\" class=\"data row0 col9\" >91.334769</td>\n",
       "            </tr>\n",
       "            <tr>\n",
       "                                <td id=\"T_4e2d8626_aea6_11ea_aae7_04d3b0e71309row1_col0\" class=\"data row1 col0\" >Thomas High School</td>\n",
       "                        <td id=\"T_4e2d8626_aea6_11ea_aae7_04d3b0e71309row1_col1\" class=\"data row1 col1\" >Charter</td>\n",
       "                        <td id=\"T_4e2d8626_aea6_11ea_aae7_04d3b0e71309row1_col2\" class=\"data row1 col2\" >1635</td>\n",
       "                        <td id=\"T_4e2d8626_aea6_11ea_aae7_04d3b0e71309row1_col3\" class=\"data row1 col3\" >$1,043,130.00</td>\n",
       "                        <td id=\"T_4e2d8626_aea6_11ea_aae7_04d3b0e71309row1_col4\" class=\"data row1 col4\" >$638.00</td>\n",
       "                        <td id=\"T_4e2d8626_aea6_11ea_aae7_04d3b0e71309row1_col5\" class=\"data row1 col5\" >83.418349</td>\n",
       "                        <td id=\"T_4e2d8626_aea6_11ea_aae7_04d3b0e71309row1_col6\" class=\"data row1 col6\" >83.848930</td>\n",
       "                        <td id=\"T_4e2d8626_aea6_11ea_aae7_04d3b0e71309row1_col7\" class=\"data row1 col7\" >93.272171</td>\n",
       "                        <td id=\"T_4e2d8626_aea6_11ea_aae7_04d3b0e71309row1_col8\" class=\"data row1 col8\" >97.308869</td>\n",
       "                        <td id=\"T_4e2d8626_aea6_11ea_aae7_04d3b0e71309row1_col9\" class=\"data row1 col9\" >90.948012</td>\n",
       "            </tr>\n",
       "            <tr>\n",
       "                                <td id=\"T_4e2d8626_aea6_11ea_aae7_04d3b0e71309row2_col0\" class=\"data row2 col0\" >Griffin High School</td>\n",
       "                        <td id=\"T_4e2d8626_aea6_11ea_aae7_04d3b0e71309row2_col1\" class=\"data row2 col1\" >Charter</td>\n",
       "                        <td id=\"T_4e2d8626_aea6_11ea_aae7_04d3b0e71309row2_col2\" class=\"data row2 col2\" >1468</td>\n",
       "                        <td id=\"T_4e2d8626_aea6_11ea_aae7_04d3b0e71309row2_col3\" class=\"data row2 col3\" >$917,500.00</td>\n",
       "                        <td id=\"T_4e2d8626_aea6_11ea_aae7_04d3b0e71309row2_col4\" class=\"data row2 col4\" >$625.00</td>\n",
       "                        <td id=\"T_4e2d8626_aea6_11ea_aae7_04d3b0e71309row2_col5\" class=\"data row2 col5\" >83.351499</td>\n",
       "                        <td id=\"T_4e2d8626_aea6_11ea_aae7_04d3b0e71309row2_col6\" class=\"data row2 col6\" >83.816757</td>\n",
       "                        <td id=\"T_4e2d8626_aea6_11ea_aae7_04d3b0e71309row2_col7\" class=\"data row2 col7\" >93.392371</td>\n",
       "                        <td id=\"T_4e2d8626_aea6_11ea_aae7_04d3b0e71309row2_col8\" class=\"data row2 col8\" >97.138965</td>\n",
       "                        <td id=\"T_4e2d8626_aea6_11ea_aae7_04d3b0e71309row2_col9\" class=\"data row2 col9\" >90.599455</td>\n",
       "            </tr>\n",
       "            <tr>\n",
       "                                <td id=\"T_4e2d8626_aea6_11ea_aae7_04d3b0e71309row3_col0\" class=\"data row3 col0\" >Wilson High School</td>\n",
       "                        <td id=\"T_4e2d8626_aea6_11ea_aae7_04d3b0e71309row3_col1\" class=\"data row3 col1\" >Charter</td>\n",
       "                        <td id=\"T_4e2d8626_aea6_11ea_aae7_04d3b0e71309row3_col2\" class=\"data row3 col2\" >2283</td>\n",
       "                        <td id=\"T_4e2d8626_aea6_11ea_aae7_04d3b0e71309row3_col3\" class=\"data row3 col3\" >$1,319,574.00</td>\n",
       "                        <td id=\"T_4e2d8626_aea6_11ea_aae7_04d3b0e71309row3_col4\" class=\"data row3 col4\" >$578.00</td>\n",
       "                        <td id=\"T_4e2d8626_aea6_11ea_aae7_04d3b0e71309row3_col5\" class=\"data row3 col5\" >83.274201</td>\n",
       "                        <td id=\"T_4e2d8626_aea6_11ea_aae7_04d3b0e71309row3_col6\" class=\"data row3 col6\" >83.989488</td>\n",
       "                        <td id=\"T_4e2d8626_aea6_11ea_aae7_04d3b0e71309row3_col7\" class=\"data row3 col7\" >93.867718</td>\n",
       "                        <td id=\"T_4e2d8626_aea6_11ea_aae7_04d3b0e71309row3_col8\" class=\"data row3 col8\" >96.539641</td>\n",
       "                        <td id=\"T_4e2d8626_aea6_11ea_aae7_04d3b0e71309row3_col9\" class=\"data row3 col9\" >90.582567</td>\n",
       "            </tr>\n",
       "            <tr>\n",
       "                                <td id=\"T_4e2d8626_aea6_11ea_aae7_04d3b0e71309row4_col0\" class=\"data row4 col0\" >Pena High School</td>\n",
       "                        <td id=\"T_4e2d8626_aea6_11ea_aae7_04d3b0e71309row4_col1\" class=\"data row4 col1\" >Charter</td>\n",
       "                        <td id=\"T_4e2d8626_aea6_11ea_aae7_04d3b0e71309row4_col2\" class=\"data row4 col2\" >962</td>\n",
       "                        <td id=\"T_4e2d8626_aea6_11ea_aae7_04d3b0e71309row4_col3\" class=\"data row4 col3\" >$585,858.00</td>\n",
       "                        <td id=\"T_4e2d8626_aea6_11ea_aae7_04d3b0e71309row4_col4\" class=\"data row4 col4\" >$609.00</td>\n",
       "                        <td id=\"T_4e2d8626_aea6_11ea_aae7_04d3b0e71309row4_col5\" class=\"data row4 col5\" >83.839917</td>\n",
       "                        <td id=\"T_4e2d8626_aea6_11ea_aae7_04d3b0e71309row4_col6\" class=\"data row4 col6\" >84.044699</td>\n",
       "                        <td id=\"T_4e2d8626_aea6_11ea_aae7_04d3b0e71309row4_col7\" class=\"data row4 col7\" >94.594595</td>\n",
       "                        <td id=\"T_4e2d8626_aea6_11ea_aae7_04d3b0e71309row4_col8\" class=\"data row4 col8\" >95.945946</td>\n",
       "                        <td id=\"T_4e2d8626_aea6_11ea_aae7_04d3b0e71309row4_col9\" class=\"data row4 col9\" >90.540541</td>\n",
       "            </tr>\n",
       "    </tbody></table>"
      ],
      "text/plain": [
       "<pandas.io.formats.style.Styler at 0x21fc0cd5588>"
      ]
     },
     "execution_count": 87,
     "metadata": {},
     "output_type": "execute_result"
    }
   ],
   "source": [
    "top_overall_df = school_summary_df.copy()\n",
    "top_overall_df = top_overall_df.sort_values(\"% Overall Passing\", ascending=False)\n",
    "top_overall_df = top_overall_df.head(5).style.format(format_dict).hide_index().applymap(bold_cols, subset=pd.IndexSlice[:, ['']])\n",
    "top_overall_df"
   ]
  },
  {
   "cell_type": "markdown",
   "metadata": {},
   "source": [
    "## Bottom Performing Schools (By % Overall Passing)"
   ]
  },
  {
   "cell_type": "markdown",
   "metadata": {},
   "source": [
    "* Sort and display the five worst-performing schools by % overall passing."
   ]
  },
  {
   "cell_type": "code",
   "execution_count": 86,
   "metadata": {},
   "outputs": [
    {
     "data": {
      "text/html": [
       "<style  type=\"text/css\" >\n",
       "    #T_4caaa24a_aea6_11ea_a94d_04d3b0e71309row0_col0 {\n",
       "            font-weight: bold;\n",
       "        }    #T_4caaa24a_aea6_11ea_a94d_04d3b0e71309row1_col0 {\n",
       "            font-weight: bold;\n",
       "        }    #T_4caaa24a_aea6_11ea_a94d_04d3b0e71309row2_col0 {\n",
       "            font-weight: bold;\n",
       "        }    #T_4caaa24a_aea6_11ea_a94d_04d3b0e71309row3_col0 {\n",
       "            font-weight: bold;\n",
       "        }    #T_4caaa24a_aea6_11ea_a94d_04d3b0e71309row4_col0 {\n",
       "            font-weight: bold;\n",
       "        }</style><table id=\"T_4caaa24a_aea6_11ea_a94d_04d3b0e71309\" ><thead>    <tr>        <th class=\"col_heading level0 col0\" ></th>        <th class=\"col_heading level0 col1\" >School Type</th>        <th class=\"col_heading level0 col2\" >Total Students</th>        <th class=\"col_heading level0 col3\" >Total School Budget</th>        <th class=\"col_heading level0 col4\" >Per Student Budget</th>        <th class=\"col_heading level0 col5\" >Average Math Score</th>        <th class=\"col_heading level0 col6\" >Average Reading Score</th>        <th class=\"col_heading level0 col7\" >% Passing Math</th>        <th class=\"col_heading level0 col8\" >% Passing Reading</th>        <th class=\"col_heading level0 col9\" >% Overall Passing</th>    </tr></thead><tbody>\n",
       "                <tr>\n",
       "                                <td id=\"T_4caaa24a_aea6_11ea_a94d_04d3b0e71309row0_col0\" class=\"data row0 col0\" >Rodriguez High School</td>\n",
       "                        <td id=\"T_4caaa24a_aea6_11ea_a94d_04d3b0e71309row0_col1\" class=\"data row0 col1\" >District</td>\n",
       "                        <td id=\"T_4caaa24a_aea6_11ea_a94d_04d3b0e71309row0_col2\" class=\"data row0 col2\" >3999</td>\n",
       "                        <td id=\"T_4caaa24a_aea6_11ea_a94d_04d3b0e71309row0_col3\" class=\"data row0 col3\" >$2,547,363.00</td>\n",
       "                        <td id=\"T_4caaa24a_aea6_11ea_a94d_04d3b0e71309row0_col4\" class=\"data row0 col4\" >$637.00</td>\n",
       "                        <td id=\"T_4caaa24a_aea6_11ea_a94d_04d3b0e71309row0_col5\" class=\"data row0 col5\" >76.842711</td>\n",
       "                        <td id=\"T_4caaa24a_aea6_11ea_a94d_04d3b0e71309row0_col6\" class=\"data row0 col6\" >80.744686</td>\n",
       "                        <td id=\"T_4caaa24a_aea6_11ea_a94d_04d3b0e71309row0_col7\" class=\"data row0 col7\" >66.366592</td>\n",
       "                        <td id=\"T_4caaa24a_aea6_11ea_a94d_04d3b0e71309row0_col8\" class=\"data row0 col8\" >80.220055</td>\n",
       "                        <td id=\"T_4caaa24a_aea6_11ea_a94d_04d3b0e71309row0_col9\" class=\"data row0 col9\" >52.988247</td>\n",
       "            </tr>\n",
       "            <tr>\n",
       "                                <td id=\"T_4caaa24a_aea6_11ea_a94d_04d3b0e71309row1_col0\" class=\"data row1 col0\" >Figueroa High School</td>\n",
       "                        <td id=\"T_4caaa24a_aea6_11ea_a94d_04d3b0e71309row1_col1\" class=\"data row1 col1\" >District</td>\n",
       "                        <td id=\"T_4caaa24a_aea6_11ea_a94d_04d3b0e71309row1_col2\" class=\"data row1 col2\" >2949</td>\n",
       "                        <td id=\"T_4caaa24a_aea6_11ea_a94d_04d3b0e71309row1_col3\" class=\"data row1 col3\" >$1,884,411.00</td>\n",
       "                        <td id=\"T_4caaa24a_aea6_11ea_a94d_04d3b0e71309row1_col4\" class=\"data row1 col4\" >$639.00</td>\n",
       "                        <td id=\"T_4caaa24a_aea6_11ea_a94d_04d3b0e71309row1_col5\" class=\"data row1 col5\" >76.711767</td>\n",
       "                        <td id=\"T_4caaa24a_aea6_11ea_a94d_04d3b0e71309row1_col6\" class=\"data row1 col6\" >81.158020</td>\n",
       "                        <td id=\"T_4caaa24a_aea6_11ea_a94d_04d3b0e71309row1_col7\" class=\"data row1 col7\" >65.988471</td>\n",
       "                        <td id=\"T_4caaa24a_aea6_11ea_a94d_04d3b0e71309row1_col8\" class=\"data row1 col8\" >80.739234</td>\n",
       "                        <td id=\"T_4caaa24a_aea6_11ea_a94d_04d3b0e71309row1_col9\" class=\"data row1 col9\" >53.204476</td>\n",
       "            </tr>\n",
       "            <tr>\n",
       "                                <td id=\"T_4caaa24a_aea6_11ea_a94d_04d3b0e71309row2_col0\" class=\"data row2 col0\" >Huang High School</td>\n",
       "                        <td id=\"T_4caaa24a_aea6_11ea_a94d_04d3b0e71309row2_col1\" class=\"data row2 col1\" >District</td>\n",
       "                        <td id=\"T_4caaa24a_aea6_11ea_a94d_04d3b0e71309row2_col2\" class=\"data row2 col2\" >2917</td>\n",
       "                        <td id=\"T_4caaa24a_aea6_11ea_a94d_04d3b0e71309row2_col3\" class=\"data row2 col3\" >$1,910,635.00</td>\n",
       "                        <td id=\"T_4caaa24a_aea6_11ea_a94d_04d3b0e71309row2_col4\" class=\"data row2 col4\" >$655.00</td>\n",
       "                        <td id=\"T_4caaa24a_aea6_11ea_a94d_04d3b0e71309row2_col5\" class=\"data row2 col5\" >76.629414</td>\n",
       "                        <td id=\"T_4caaa24a_aea6_11ea_a94d_04d3b0e71309row2_col6\" class=\"data row2 col6\" >81.182722</td>\n",
       "                        <td id=\"T_4caaa24a_aea6_11ea_a94d_04d3b0e71309row2_col7\" class=\"data row2 col7\" >65.683922</td>\n",
       "                        <td id=\"T_4caaa24a_aea6_11ea_a94d_04d3b0e71309row2_col8\" class=\"data row2 col8\" >81.316421</td>\n",
       "                        <td id=\"T_4caaa24a_aea6_11ea_a94d_04d3b0e71309row2_col9\" class=\"data row2 col9\" >53.513884</td>\n",
       "            </tr>\n",
       "            <tr>\n",
       "                                <td id=\"T_4caaa24a_aea6_11ea_a94d_04d3b0e71309row3_col0\" class=\"data row3 col0\" >Hernandez High School</td>\n",
       "                        <td id=\"T_4caaa24a_aea6_11ea_a94d_04d3b0e71309row3_col1\" class=\"data row3 col1\" >District</td>\n",
       "                        <td id=\"T_4caaa24a_aea6_11ea_a94d_04d3b0e71309row3_col2\" class=\"data row3 col2\" >4635</td>\n",
       "                        <td id=\"T_4caaa24a_aea6_11ea_a94d_04d3b0e71309row3_col3\" class=\"data row3 col3\" >$3,022,020.00</td>\n",
       "                        <td id=\"T_4caaa24a_aea6_11ea_a94d_04d3b0e71309row3_col4\" class=\"data row3 col4\" >$652.00</td>\n",
       "                        <td id=\"T_4caaa24a_aea6_11ea_a94d_04d3b0e71309row3_col5\" class=\"data row3 col5\" >77.289752</td>\n",
       "                        <td id=\"T_4caaa24a_aea6_11ea_a94d_04d3b0e71309row3_col6\" class=\"data row3 col6\" >80.934412</td>\n",
       "                        <td id=\"T_4caaa24a_aea6_11ea_a94d_04d3b0e71309row3_col7\" class=\"data row3 col7\" >66.752967</td>\n",
       "                        <td id=\"T_4caaa24a_aea6_11ea_a94d_04d3b0e71309row3_col8\" class=\"data row3 col8\" >80.862999</td>\n",
       "                        <td id=\"T_4caaa24a_aea6_11ea_a94d_04d3b0e71309row3_col9\" class=\"data row3 col9\" >53.527508</td>\n",
       "            </tr>\n",
       "            <tr>\n",
       "                                <td id=\"T_4caaa24a_aea6_11ea_a94d_04d3b0e71309row4_col0\" class=\"data row4 col0\" >Johnson High School</td>\n",
       "                        <td id=\"T_4caaa24a_aea6_11ea_a94d_04d3b0e71309row4_col1\" class=\"data row4 col1\" >District</td>\n",
       "                        <td id=\"T_4caaa24a_aea6_11ea_a94d_04d3b0e71309row4_col2\" class=\"data row4 col2\" >4761</td>\n",
       "                        <td id=\"T_4caaa24a_aea6_11ea_a94d_04d3b0e71309row4_col3\" class=\"data row4 col3\" >$3,094,650.00</td>\n",
       "                        <td id=\"T_4caaa24a_aea6_11ea_a94d_04d3b0e71309row4_col4\" class=\"data row4 col4\" >$650.00</td>\n",
       "                        <td id=\"T_4caaa24a_aea6_11ea_a94d_04d3b0e71309row4_col5\" class=\"data row4 col5\" >77.072464</td>\n",
       "                        <td id=\"T_4caaa24a_aea6_11ea_a94d_04d3b0e71309row4_col6\" class=\"data row4 col6\" >80.966394</td>\n",
       "                        <td id=\"T_4caaa24a_aea6_11ea_a94d_04d3b0e71309row4_col7\" class=\"data row4 col7\" >66.057551</td>\n",
       "                        <td id=\"T_4caaa24a_aea6_11ea_a94d_04d3b0e71309row4_col8\" class=\"data row4 col8\" >81.222432</td>\n",
       "                        <td id=\"T_4caaa24a_aea6_11ea_a94d_04d3b0e71309row4_col9\" class=\"data row4 col9\" >53.539172</td>\n",
       "            </tr>\n",
       "    </tbody></table>"
      ],
      "text/plain": [
       "<pandas.io.formats.style.Styler at 0x21fc0cc3648>"
      ]
     },
     "execution_count": 86,
     "metadata": {},
     "output_type": "execute_result"
    }
   ],
   "source": [
    "bottom_overall_df = school_summary_df.copy()\n",
    "bottom_overall_df = bottom_overall_df.sort_values(\"% Overall Passing\")\n",
    "bottom_overall_df = bottom_overall_df.head(5).style.format(format_dict).hide_index().applymap(bold_cols, subset=pd.IndexSlice[:, ['']])\n",
    "bottom_overall_df"
   ]
  },
  {
   "cell_type": "markdown",
   "metadata": {
    "collapsed": true
   },
   "source": [
    "## Math Scores by Grade"
   ]
  },
  {
   "cell_type": "markdown",
   "metadata": {},
   "source": [
    "* Create a table that lists the average Reading Score for students of each grade level (9th, 10th, 11th, 12th) at each school.\n",
    "\n",
    "  * Create a pandas series for each grade. Hint: use a conditional statement.\n",
    "  \n",
    "  * Group each series by school\n",
    "  \n",
    "  * Combine the series into a dataframe\n",
    "  \n",
    "  * Optional: give the displayed data cleaner formatting"
   ]
  },
  {
   "cell_type": "code",
   "execution_count": 91,
   "metadata": {},
   "outputs": [
    {
     "data": {
      "text/html": [
       "<style  type=\"text/css\" >\n",
       "    #T_7a7ab35a_aea6_11ea_a043_04d3b0e71309row0_col0 {\n",
       "            font-weight: bold;\n",
       "        }    #T_7a7ab35a_aea6_11ea_a043_04d3b0e71309row1_col0 {\n",
       "            font-weight: bold;\n",
       "        }    #T_7a7ab35a_aea6_11ea_a043_04d3b0e71309row2_col0 {\n",
       "            font-weight: bold;\n",
       "        }    #T_7a7ab35a_aea6_11ea_a043_04d3b0e71309row3_col0 {\n",
       "            font-weight: bold;\n",
       "        }    #T_7a7ab35a_aea6_11ea_a043_04d3b0e71309row4_col0 {\n",
       "            font-weight: bold;\n",
       "        }    #T_7a7ab35a_aea6_11ea_a043_04d3b0e71309row5_col0 {\n",
       "            font-weight: bold;\n",
       "        }    #T_7a7ab35a_aea6_11ea_a043_04d3b0e71309row6_col0 {\n",
       "            font-weight: bold;\n",
       "        }    #T_7a7ab35a_aea6_11ea_a043_04d3b0e71309row7_col0 {\n",
       "            font-weight: bold;\n",
       "        }    #T_7a7ab35a_aea6_11ea_a043_04d3b0e71309row8_col0 {\n",
       "            font-weight: bold;\n",
       "        }    #T_7a7ab35a_aea6_11ea_a043_04d3b0e71309row9_col0 {\n",
       "            font-weight: bold;\n",
       "        }    #T_7a7ab35a_aea6_11ea_a043_04d3b0e71309row10_col0 {\n",
       "            font-weight: bold;\n",
       "        }    #T_7a7ab35a_aea6_11ea_a043_04d3b0e71309row11_col0 {\n",
       "            font-weight: bold;\n",
       "        }    #T_7a7ab35a_aea6_11ea_a043_04d3b0e71309row12_col0 {\n",
       "            font-weight: bold;\n",
       "        }    #T_7a7ab35a_aea6_11ea_a043_04d3b0e71309row13_col0 {\n",
       "            font-weight: bold;\n",
       "        }    #T_7a7ab35a_aea6_11ea_a043_04d3b0e71309row14_col0 {\n",
       "            font-weight: bold;\n",
       "        }</style><table id=\"T_7a7ab35a_aea6_11ea_a043_04d3b0e71309\" ><thead>    <tr>        <th class=\"col_heading level0 col0\" ></th>        <th class=\"col_heading level0 col1\" >9th</th>        <th class=\"col_heading level0 col2\" >10th</th>        <th class=\"col_heading level0 col3\" >11th</th>        <th class=\"col_heading level0 col4\" >12th</th>    </tr></thead><tbody>\n",
       "                <tr>\n",
       "                                <td id=\"T_7a7ab35a_aea6_11ea_a043_04d3b0e71309row0_col0\" class=\"data row0 col0\" >Bailey High School</td>\n",
       "                        <td id=\"T_7a7ab35a_aea6_11ea_a043_04d3b0e71309row0_col1\" class=\"data row0 col1\" >77.083676</td>\n",
       "                        <td id=\"T_7a7ab35a_aea6_11ea_a043_04d3b0e71309row0_col2\" class=\"data row0 col2\" >76.996772</td>\n",
       "                        <td id=\"T_7a7ab35a_aea6_11ea_a043_04d3b0e71309row0_col3\" class=\"data row0 col3\" >77.515588</td>\n",
       "                        <td id=\"T_7a7ab35a_aea6_11ea_a043_04d3b0e71309row0_col4\" class=\"data row0 col4\" >76.492218</td>\n",
       "            </tr>\n",
       "            <tr>\n",
       "                                <td id=\"T_7a7ab35a_aea6_11ea_a043_04d3b0e71309row1_col0\" class=\"data row1 col0\" >Cabrera High School</td>\n",
       "                        <td id=\"T_7a7ab35a_aea6_11ea_a043_04d3b0e71309row1_col1\" class=\"data row1 col1\" >83.094697</td>\n",
       "                        <td id=\"T_7a7ab35a_aea6_11ea_a043_04d3b0e71309row1_col2\" class=\"data row1 col2\" >83.154506</td>\n",
       "                        <td id=\"T_7a7ab35a_aea6_11ea_a043_04d3b0e71309row1_col3\" class=\"data row1 col3\" >82.765560</td>\n",
       "                        <td id=\"T_7a7ab35a_aea6_11ea_a043_04d3b0e71309row1_col4\" class=\"data row1 col4\" >83.277487</td>\n",
       "            </tr>\n",
       "            <tr>\n",
       "                                <td id=\"T_7a7ab35a_aea6_11ea_a043_04d3b0e71309row2_col0\" class=\"data row2 col0\" >Figueroa High School</td>\n",
       "                        <td id=\"T_7a7ab35a_aea6_11ea_a043_04d3b0e71309row2_col1\" class=\"data row2 col1\" >76.403037</td>\n",
       "                        <td id=\"T_7a7ab35a_aea6_11ea_a043_04d3b0e71309row2_col2\" class=\"data row2 col2\" >76.539974</td>\n",
       "                        <td id=\"T_7a7ab35a_aea6_11ea_a043_04d3b0e71309row2_col3\" class=\"data row2 col3\" >76.884344</td>\n",
       "                        <td id=\"T_7a7ab35a_aea6_11ea_a043_04d3b0e71309row2_col4\" class=\"data row2 col4\" >77.151369</td>\n",
       "            </tr>\n",
       "            <tr>\n",
       "                                <td id=\"T_7a7ab35a_aea6_11ea_a043_04d3b0e71309row3_col0\" class=\"data row3 col0\" >Ford High School</td>\n",
       "                        <td id=\"T_7a7ab35a_aea6_11ea_a043_04d3b0e71309row3_col1\" class=\"data row3 col1\" >77.361345</td>\n",
       "                        <td id=\"T_7a7ab35a_aea6_11ea_a043_04d3b0e71309row3_col2\" class=\"data row3 col2\" >77.672316</td>\n",
       "                        <td id=\"T_7a7ab35a_aea6_11ea_a043_04d3b0e71309row3_col3\" class=\"data row3 col3\" >76.918058</td>\n",
       "                        <td id=\"T_7a7ab35a_aea6_11ea_a043_04d3b0e71309row3_col4\" class=\"data row3 col4\" >76.179963</td>\n",
       "            </tr>\n",
       "            <tr>\n",
       "                                <td id=\"T_7a7ab35a_aea6_11ea_a043_04d3b0e71309row4_col0\" class=\"data row4 col0\" >Griffin High School</td>\n",
       "                        <td id=\"T_7a7ab35a_aea6_11ea_a043_04d3b0e71309row4_col1\" class=\"data row4 col1\" >82.044010</td>\n",
       "                        <td id=\"T_7a7ab35a_aea6_11ea_a043_04d3b0e71309row4_col2\" class=\"data row4 col2\" >84.229064</td>\n",
       "                        <td id=\"T_7a7ab35a_aea6_11ea_a043_04d3b0e71309row4_col3\" class=\"data row4 col3\" >83.842105</td>\n",
       "                        <td id=\"T_7a7ab35a_aea6_11ea_a043_04d3b0e71309row4_col4\" class=\"data row4 col4\" >83.356164</td>\n",
       "            </tr>\n",
       "            <tr>\n",
       "                                <td id=\"T_7a7ab35a_aea6_11ea_a043_04d3b0e71309row5_col0\" class=\"data row5 col0\" >Hernandez High School</td>\n",
       "                        <td id=\"T_7a7ab35a_aea6_11ea_a043_04d3b0e71309row5_col1\" class=\"data row5 col1\" >77.438495</td>\n",
       "                        <td id=\"T_7a7ab35a_aea6_11ea_a043_04d3b0e71309row5_col2\" class=\"data row5 col2\" >77.337408</td>\n",
       "                        <td id=\"T_7a7ab35a_aea6_11ea_a043_04d3b0e71309row5_col3\" class=\"data row5 col3\" >77.136029</td>\n",
       "                        <td id=\"T_7a7ab35a_aea6_11ea_a043_04d3b0e71309row5_col4\" class=\"data row5 col4\" >77.186567</td>\n",
       "            </tr>\n",
       "            <tr>\n",
       "                                <td id=\"T_7a7ab35a_aea6_11ea_a043_04d3b0e71309row6_col0\" class=\"data row6 col0\" >Holden High School</td>\n",
       "                        <td id=\"T_7a7ab35a_aea6_11ea_a043_04d3b0e71309row6_col1\" class=\"data row6 col1\" >83.787402</td>\n",
       "                        <td id=\"T_7a7ab35a_aea6_11ea_a043_04d3b0e71309row6_col2\" class=\"data row6 col2\" >83.429825</td>\n",
       "                        <td id=\"T_7a7ab35a_aea6_11ea_a043_04d3b0e71309row6_col3\" class=\"data row6 col3\" >85.000000</td>\n",
       "                        <td id=\"T_7a7ab35a_aea6_11ea_a043_04d3b0e71309row6_col4\" class=\"data row6 col4\" >82.855422</td>\n",
       "            </tr>\n",
       "            <tr>\n",
       "                                <td id=\"T_7a7ab35a_aea6_11ea_a043_04d3b0e71309row7_col0\" class=\"data row7 col0\" >Huang High School</td>\n",
       "                        <td id=\"T_7a7ab35a_aea6_11ea_a043_04d3b0e71309row7_col1\" class=\"data row7 col1\" >77.027251</td>\n",
       "                        <td id=\"T_7a7ab35a_aea6_11ea_a043_04d3b0e71309row7_col2\" class=\"data row7 col2\" >75.908735</td>\n",
       "                        <td id=\"T_7a7ab35a_aea6_11ea_a043_04d3b0e71309row7_col3\" class=\"data row7 col3\" >76.446602</td>\n",
       "                        <td id=\"T_7a7ab35a_aea6_11ea_a043_04d3b0e71309row7_col4\" class=\"data row7 col4\" >77.225641</td>\n",
       "            </tr>\n",
       "            <tr>\n",
       "                                <td id=\"T_7a7ab35a_aea6_11ea_a043_04d3b0e71309row8_col0\" class=\"data row8 col0\" >Johnson High School</td>\n",
       "                        <td id=\"T_7a7ab35a_aea6_11ea_a043_04d3b0e71309row8_col1\" class=\"data row8 col1\" >77.187857</td>\n",
       "                        <td id=\"T_7a7ab35a_aea6_11ea_a043_04d3b0e71309row8_col2\" class=\"data row8 col2\" >76.691117</td>\n",
       "                        <td id=\"T_7a7ab35a_aea6_11ea_a043_04d3b0e71309row8_col3\" class=\"data row8 col3\" >77.491653</td>\n",
       "                        <td id=\"T_7a7ab35a_aea6_11ea_a043_04d3b0e71309row8_col4\" class=\"data row8 col4\" >76.863248</td>\n",
       "            </tr>\n",
       "            <tr>\n",
       "                                <td id=\"T_7a7ab35a_aea6_11ea_a043_04d3b0e71309row9_col0\" class=\"data row9 col0\" >Pena High School</td>\n",
       "                        <td id=\"T_7a7ab35a_aea6_11ea_a043_04d3b0e71309row9_col1\" class=\"data row9 col1\" >83.625455</td>\n",
       "                        <td id=\"T_7a7ab35a_aea6_11ea_a043_04d3b0e71309row9_col2\" class=\"data row9 col2\" >83.372000</td>\n",
       "                        <td id=\"T_7a7ab35a_aea6_11ea_a043_04d3b0e71309row9_col3\" class=\"data row9 col3\" >84.328125</td>\n",
       "                        <td id=\"T_7a7ab35a_aea6_11ea_a043_04d3b0e71309row9_col4\" class=\"data row9 col4\" >84.121547</td>\n",
       "            </tr>\n",
       "            <tr>\n",
       "                                <td id=\"T_7a7ab35a_aea6_11ea_a043_04d3b0e71309row10_col0\" class=\"data row10 col0\" >Rodriguez High School</td>\n",
       "                        <td id=\"T_7a7ab35a_aea6_11ea_a043_04d3b0e71309row10_col1\" class=\"data row10 col1\" >76.859966</td>\n",
       "                        <td id=\"T_7a7ab35a_aea6_11ea_a043_04d3b0e71309row10_col2\" class=\"data row10 col2\" >76.612500</td>\n",
       "                        <td id=\"T_7a7ab35a_aea6_11ea_a043_04d3b0e71309row10_col3\" class=\"data row10 col3\" >76.395626</td>\n",
       "                        <td id=\"T_7a7ab35a_aea6_11ea_a043_04d3b0e71309row10_col4\" class=\"data row10 col4\" >77.690748</td>\n",
       "            </tr>\n",
       "            <tr>\n",
       "                                <td id=\"T_7a7ab35a_aea6_11ea_a043_04d3b0e71309row11_col0\" class=\"data row11 col0\" >Shelton High School</td>\n",
       "                        <td id=\"T_7a7ab35a_aea6_11ea_a043_04d3b0e71309row11_col1\" class=\"data row11 col1\" >83.420755</td>\n",
       "                        <td id=\"T_7a7ab35a_aea6_11ea_a043_04d3b0e71309row11_col2\" class=\"data row11 col2\" >82.917411</td>\n",
       "                        <td id=\"T_7a7ab35a_aea6_11ea_a043_04d3b0e71309row11_col3\" class=\"data row11 col3\" >83.383495</td>\n",
       "                        <td id=\"T_7a7ab35a_aea6_11ea_a043_04d3b0e71309row11_col4\" class=\"data row11 col4\" >83.778976</td>\n",
       "            </tr>\n",
       "            <tr>\n",
       "                                <td id=\"T_7a7ab35a_aea6_11ea_a043_04d3b0e71309row12_col0\" class=\"data row12 col0\" >Thomas High School</td>\n",
       "                        <td id=\"T_7a7ab35a_aea6_11ea_a043_04d3b0e71309row12_col1\" class=\"data row12 col1\" >83.590022</td>\n",
       "                        <td id=\"T_7a7ab35a_aea6_11ea_a043_04d3b0e71309row12_col2\" class=\"data row12 col2\" >83.087886</td>\n",
       "                        <td id=\"T_7a7ab35a_aea6_11ea_a043_04d3b0e71309row12_col3\" class=\"data row12 col3\" >83.498795</td>\n",
       "                        <td id=\"T_7a7ab35a_aea6_11ea_a043_04d3b0e71309row12_col4\" class=\"data row12 col4\" >83.497041</td>\n",
       "            </tr>\n",
       "            <tr>\n",
       "                                <td id=\"T_7a7ab35a_aea6_11ea_a043_04d3b0e71309row13_col0\" class=\"data row13 col0\" >Wilson High School</td>\n",
       "                        <td id=\"T_7a7ab35a_aea6_11ea_a043_04d3b0e71309row13_col1\" class=\"data row13 col1\" >83.085578</td>\n",
       "                        <td id=\"T_7a7ab35a_aea6_11ea_a043_04d3b0e71309row13_col2\" class=\"data row13 col2\" >83.724422</td>\n",
       "                        <td id=\"T_7a7ab35a_aea6_11ea_a043_04d3b0e71309row13_col3\" class=\"data row13 col3\" >83.195326</td>\n",
       "                        <td id=\"T_7a7ab35a_aea6_11ea_a043_04d3b0e71309row13_col4\" class=\"data row13 col4\" >83.035794</td>\n",
       "            </tr>\n",
       "            <tr>\n",
       "                                <td id=\"T_7a7ab35a_aea6_11ea_a043_04d3b0e71309row14_col0\" class=\"data row14 col0\" >Wright High School</td>\n",
       "                        <td id=\"T_7a7ab35a_aea6_11ea_a043_04d3b0e71309row14_col1\" class=\"data row14 col1\" >83.264706</td>\n",
       "                        <td id=\"T_7a7ab35a_aea6_11ea_a043_04d3b0e71309row14_col2\" class=\"data row14 col2\" >84.010288</td>\n",
       "                        <td id=\"T_7a7ab35a_aea6_11ea_a043_04d3b0e71309row14_col3\" class=\"data row14 col3\" >83.836782</td>\n",
       "                        <td id=\"T_7a7ab35a_aea6_11ea_a043_04d3b0e71309row14_col4\" class=\"data row14 col4\" >83.644986</td>\n",
       "            </tr>\n",
       "    </tbody></table>"
      ],
      "text/plain": [
       "<pandas.io.formats.style.Styler at 0x21fc0cbb708>"
      ]
     },
     "execution_count": 91,
     "metadata": {},
     "output_type": "execute_result"
    }
   ],
   "source": [
    "student_data_math_df = student_data[['school_name','grade','math_score']]\n",
    "student_data_math_grouped_9th_df = student_data_math_df.loc[(student_data_math_df.grade == '9th')].groupby(['school_name'])[\"math_score\"].mean()\n",
    "student_data_math_grouped_10th_df = student_data_math_df.loc[(student_data_math_df.grade == '10th')].groupby(['school_name'])[\"math_score\"].mean()\n",
    "student_data_math_grouped_11th_df = student_data_math_df.loc[(student_data_math_df.grade == '11th')].groupby(['school_name'])[\"math_score\"].mean()\n",
    "student_data_math_grouped_12th_df = student_data_math_df.loc[(student_data_math_df.grade == '12th')].groupby(['school_name'])[\"math_score\"].mean()\n",
    "\n",
    "student_data_math_grade_df = pd.DataFrame({\"9th\": student_data_math_grouped_9th_df,\n",
    "                                             \"10th\": student_data_math_grouped_10th_df,\n",
    "                                             \"11th\": student_data_math_grouped_11th_df,\n",
    "                                             \"12th\": student_data_math_grouped_12th_df,\n",
    "                                            })\n",
    "\n",
    "format_dict_grades = {\n",
    "    \"9th\":\"{:,.6f}\", \n",
    "    \"10th\":\"{:,.6f}\", \n",
    "    \"11th\":\"{:,.6f}\", \n",
    "    \"12th\":\"{:,.6f}\", \n",
    "    }\n",
    "\n",
    "student_data_math_grade_df = student_data_math_grade_df.reset_index()\n",
    "student_data_math_grade_df = student_data_math_grade_df.rename(columns = {\"school_name\": \"\"})\n",
    "student_data_math_grade_df = student_data_math_grade_df.style.format(format_dict_grades).hide_index().applymap(bold_cols, subset=pd.IndexSlice[:, ['']])\n",
    "student_data_math_grade_df\n"
   ]
  },
  {
   "cell_type": "markdown",
   "metadata": {},
   "source": [
    "## Reading Score by Grade "
   ]
  },
  {
   "cell_type": "markdown",
   "metadata": {},
   "source": [
    "* Perform the same operations as above for reading scores"
   ]
  },
  {
   "cell_type": "code",
   "execution_count": 92,
   "metadata": {},
   "outputs": [
    {
     "data": {
      "text/html": [
       "<style  type=\"text/css\" >\n",
       "    #T_7d1caf64_aea6_11ea_9b59_04d3b0e71309row0_col0 {\n",
       "            font-weight: bold;\n",
       "        }    #T_7d1caf64_aea6_11ea_9b59_04d3b0e71309row1_col0 {\n",
       "            font-weight: bold;\n",
       "        }    #T_7d1caf64_aea6_11ea_9b59_04d3b0e71309row2_col0 {\n",
       "            font-weight: bold;\n",
       "        }    #T_7d1caf64_aea6_11ea_9b59_04d3b0e71309row3_col0 {\n",
       "            font-weight: bold;\n",
       "        }    #T_7d1caf64_aea6_11ea_9b59_04d3b0e71309row4_col0 {\n",
       "            font-weight: bold;\n",
       "        }    #T_7d1caf64_aea6_11ea_9b59_04d3b0e71309row5_col0 {\n",
       "            font-weight: bold;\n",
       "        }    #T_7d1caf64_aea6_11ea_9b59_04d3b0e71309row6_col0 {\n",
       "            font-weight: bold;\n",
       "        }    #T_7d1caf64_aea6_11ea_9b59_04d3b0e71309row7_col0 {\n",
       "            font-weight: bold;\n",
       "        }    #T_7d1caf64_aea6_11ea_9b59_04d3b0e71309row8_col0 {\n",
       "            font-weight: bold;\n",
       "        }    #T_7d1caf64_aea6_11ea_9b59_04d3b0e71309row9_col0 {\n",
       "            font-weight: bold;\n",
       "        }    #T_7d1caf64_aea6_11ea_9b59_04d3b0e71309row10_col0 {\n",
       "            font-weight: bold;\n",
       "        }    #T_7d1caf64_aea6_11ea_9b59_04d3b0e71309row11_col0 {\n",
       "            font-weight: bold;\n",
       "        }    #T_7d1caf64_aea6_11ea_9b59_04d3b0e71309row12_col0 {\n",
       "            font-weight: bold;\n",
       "        }    #T_7d1caf64_aea6_11ea_9b59_04d3b0e71309row13_col0 {\n",
       "            font-weight: bold;\n",
       "        }    #T_7d1caf64_aea6_11ea_9b59_04d3b0e71309row14_col0 {\n",
       "            font-weight: bold;\n",
       "        }</style><table id=\"T_7d1caf64_aea6_11ea_9b59_04d3b0e71309\" ><thead>    <tr>        <th class=\"col_heading level0 col0\" ></th>        <th class=\"col_heading level0 col1\" >9th</th>        <th class=\"col_heading level0 col2\" >10th</th>        <th class=\"col_heading level0 col3\" >11th</th>        <th class=\"col_heading level0 col4\" >12th</th>    </tr></thead><tbody>\n",
       "                <tr>\n",
       "                                <td id=\"T_7d1caf64_aea6_11ea_9b59_04d3b0e71309row0_col0\" class=\"data row0 col0\" >Bailey High School</td>\n",
       "                        <td id=\"T_7d1caf64_aea6_11ea_9b59_04d3b0e71309row0_col1\" class=\"data row0 col1\" >81.303155</td>\n",
       "                        <td id=\"T_7d1caf64_aea6_11ea_9b59_04d3b0e71309row0_col2\" class=\"data row0 col2\" >80.907183</td>\n",
       "                        <td id=\"T_7d1caf64_aea6_11ea_9b59_04d3b0e71309row0_col3\" class=\"data row0 col3\" >80.945643</td>\n",
       "                        <td id=\"T_7d1caf64_aea6_11ea_9b59_04d3b0e71309row0_col4\" class=\"data row0 col4\" >80.912451</td>\n",
       "            </tr>\n",
       "            <tr>\n",
       "                                <td id=\"T_7d1caf64_aea6_11ea_9b59_04d3b0e71309row1_col0\" class=\"data row1 col0\" >Cabrera High School</td>\n",
       "                        <td id=\"T_7d1caf64_aea6_11ea_9b59_04d3b0e71309row1_col1\" class=\"data row1 col1\" >83.676136</td>\n",
       "                        <td id=\"T_7d1caf64_aea6_11ea_9b59_04d3b0e71309row1_col2\" class=\"data row1 col2\" >84.253219</td>\n",
       "                        <td id=\"T_7d1caf64_aea6_11ea_9b59_04d3b0e71309row1_col3\" class=\"data row1 col3\" >83.788382</td>\n",
       "                        <td id=\"T_7d1caf64_aea6_11ea_9b59_04d3b0e71309row1_col4\" class=\"data row1 col4\" >84.287958</td>\n",
       "            </tr>\n",
       "            <tr>\n",
       "                                <td id=\"T_7d1caf64_aea6_11ea_9b59_04d3b0e71309row2_col0\" class=\"data row2 col0\" >Figueroa High School</td>\n",
       "                        <td id=\"T_7d1caf64_aea6_11ea_9b59_04d3b0e71309row2_col1\" class=\"data row2 col1\" >81.198598</td>\n",
       "                        <td id=\"T_7d1caf64_aea6_11ea_9b59_04d3b0e71309row2_col2\" class=\"data row2 col2\" >81.408912</td>\n",
       "                        <td id=\"T_7d1caf64_aea6_11ea_9b59_04d3b0e71309row2_col3\" class=\"data row2 col3\" >80.640339</td>\n",
       "                        <td id=\"T_7d1caf64_aea6_11ea_9b59_04d3b0e71309row2_col4\" class=\"data row2 col4\" >81.384863</td>\n",
       "            </tr>\n",
       "            <tr>\n",
       "                                <td id=\"T_7d1caf64_aea6_11ea_9b59_04d3b0e71309row3_col0\" class=\"data row3 col0\" >Ford High School</td>\n",
       "                        <td id=\"T_7d1caf64_aea6_11ea_9b59_04d3b0e71309row3_col1\" class=\"data row3 col1\" >80.632653</td>\n",
       "                        <td id=\"T_7d1caf64_aea6_11ea_9b59_04d3b0e71309row3_col2\" class=\"data row3 col2\" >81.262712</td>\n",
       "                        <td id=\"T_7d1caf64_aea6_11ea_9b59_04d3b0e71309row3_col3\" class=\"data row3 col3\" >80.403642</td>\n",
       "                        <td id=\"T_7d1caf64_aea6_11ea_9b59_04d3b0e71309row3_col4\" class=\"data row3 col4\" >80.662338</td>\n",
       "            </tr>\n",
       "            <tr>\n",
       "                                <td id=\"T_7d1caf64_aea6_11ea_9b59_04d3b0e71309row4_col0\" class=\"data row4 col0\" >Griffin High School</td>\n",
       "                        <td id=\"T_7d1caf64_aea6_11ea_9b59_04d3b0e71309row4_col1\" class=\"data row4 col1\" >83.369193</td>\n",
       "                        <td id=\"T_7d1caf64_aea6_11ea_9b59_04d3b0e71309row4_col2\" class=\"data row4 col2\" >83.706897</td>\n",
       "                        <td id=\"T_7d1caf64_aea6_11ea_9b59_04d3b0e71309row4_col3\" class=\"data row4 col3\" >84.288089</td>\n",
       "                        <td id=\"T_7d1caf64_aea6_11ea_9b59_04d3b0e71309row4_col4\" class=\"data row4 col4\" >84.013699</td>\n",
       "            </tr>\n",
       "            <tr>\n",
       "                                <td id=\"T_7d1caf64_aea6_11ea_9b59_04d3b0e71309row5_col0\" class=\"data row5 col0\" >Hernandez High School</td>\n",
       "                        <td id=\"T_7d1caf64_aea6_11ea_9b59_04d3b0e71309row5_col1\" class=\"data row5 col1\" >80.866860</td>\n",
       "                        <td id=\"T_7d1caf64_aea6_11ea_9b59_04d3b0e71309row5_col2\" class=\"data row5 col2\" >80.660147</td>\n",
       "                        <td id=\"T_7d1caf64_aea6_11ea_9b59_04d3b0e71309row5_col3\" class=\"data row5 col3\" >81.396140</td>\n",
       "                        <td id=\"T_7d1caf64_aea6_11ea_9b59_04d3b0e71309row5_col4\" class=\"data row5 col4\" >80.857143</td>\n",
       "            </tr>\n",
       "            <tr>\n",
       "                                <td id=\"T_7d1caf64_aea6_11ea_9b59_04d3b0e71309row6_col0\" class=\"data row6 col0\" >Holden High School</td>\n",
       "                        <td id=\"T_7d1caf64_aea6_11ea_9b59_04d3b0e71309row6_col1\" class=\"data row6 col1\" >83.677165</td>\n",
       "                        <td id=\"T_7d1caf64_aea6_11ea_9b59_04d3b0e71309row6_col2\" class=\"data row6 col2\" >83.324561</td>\n",
       "                        <td id=\"T_7d1caf64_aea6_11ea_9b59_04d3b0e71309row6_col3\" class=\"data row6 col3\" >83.815534</td>\n",
       "                        <td id=\"T_7d1caf64_aea6_11ea_9b59_04d3b0e71309row6_col4\" class=\"data row6 col4\" >84.698795</td>\n",
       "            </tr>\n",
       "            <tr>\n",
       "                                <td id=\"T_7d1caf64_aea6_11ea_9b59_04d3b0e71309row7_col0\" class=\"data row7 col0\" >Huang High School</td>\n",
       "                        <td id=\"T_7d1caf64_aea6_11ea_9b59_04d3b0e71309row7_col1\" class=\"data row7 col1\" >81.290284</td>\n",
       "                        <td id=\"T_7d1caf64_aea6_11ea_9b59_04d3b0e71309row7_col2\" class=\"data row7 col2\" >81.512386</td>\n",
       "                        <td id=\"T_7d1caf64_aea6_11ea_9b59_04d3b0e71309row7_col3\" class=\"data row7 col3\" >81.417476</td>\n",
       "                        <td id=\"T_7d1caf64_aea6_11ea_9b59_04d3b0e71309row7_col4\" class=\"data row7 col4\" >80.305983</td>\n",
       "            </tr>\n",
       "            <tr>\n",
       "                                <td id=\"T_7d1caf64_aea6_11ea_9b59_04d3b0e71309row8_col0\" class=\"data row8 col0\" >Johnson High School</td>\n",
       "                        <td id=\"T_7d1caf64_aea6_11ea_9b59_04d3b0e71309row8_col1\" class=\"data row8 col1\" >81.260714</td>\n",
       "                        <td id=\"T_7d1caf64_aea6_11ea_9b59_04d3b0e71309row8_col2\" class=\"data row8 col2\" >80.773431</td>\n",
       "                        <td id=\"T_7d1caf64_aea6_11ea_9b59_04d3b0e71309row8_col3\" class=\"data row8 col3\" >80.616027</td>\n",
       "                        <td id=\"T_7d1caf64_aea6_11ea_9b59_04d3b0e71309row8_col4\" class=\"data row8 col4\" >81.227564</td>\n",
       "            </tr>\n",
       "            <tr>\n",
       "                                <td id=\"T_7d1caf64_aea6_11ea_9b59_04d3b0e71309row9_col0\" class=\"data row9 col0\" >Pena High School</td>\n",
       "                        <td id=\"T_7d1caf64_aea6_11ea_9b59_04d3b0e71309row9_col1\" class=\"data row9 col1\" >83.807273</td>\n",
       "                        <td id=\"T_7d1caf64_aea6_11ea_9b59_04d3b0e71309row9_col2\" class=\"data row9 col2\" >83.612000</td>\n",
       "                        <td id=\"T_7d1caf64_aea6_11ea_9b59_04d3b0e71309row9_col3\" class=\"data row9 col3\" >84.335938</td>\n",
       "                        <td id=\"T_7d1caf64_aea6_11ea_9b59_04d3b0e71309row9_col4\" class=\"data row9 col4\" >84.591160</td>\n",
       "            </tr>\n",
       "            <tr>\n",
       "                                <td id=\"T_7d1caf64_aea6_11ea_9b59_04d3b0e71309row10_col0\" class=\"data row10 col0\" >Rodriguez High School</td>\n",
       "                        <td id=\"T_7d1caf64_aea6_11ea_9b59_04d3b0e71309row10_col1\" class=\"data row10 col1\" >80.993127</td>\n",
       "                        <td id=\"T_7d1caf64_aea6_11ea_9b59_04d3b0e71309row10_col2\" class=\"data row10 col2\" >80.629808</td>\n",
       "                        <td id=\"T_7d1caf64_aea6_11ea_9b59_04d3b0e71309row10_col3\" class=\"data row10 col3\" >80.864811</td>\n",
       "                        <td id=\"T_7d1caf64_aea6_11ea_9b59_04d3b0e71309row10_col4\" class=\"data row10 col4\" >80.376426</td>\n",
       "            </tr>\n",
       "            <tr>\n",
       "                                <td id=\"T_7d1caf64_aea6_11ea_9b59_04d3b0e71309row11_col0\" class=\"data row11 col0\" >Shelton High School</td>\n",
       "                        <td id=\"T_7d1caf64_aea6_11ea_9b59_04d3b0e71309row11_col1\" class=\"data row11 col1\" >84.122642</td>\n",
       "                        <td id=\"T_7d1caf64_aea6_11ea_9b59_04d3b0e71309row11_col2\" class=\"data row11 col2\" >83.441964</td>\n",
       "                        <td id=\"T_7d1caf64_aea6_11ea_9b59_04d3b0e71309row11_col3\" class=\"data row11 col3\" >84.373786</td>\n",
       "                        <td id=\"T_7d1caf64_aea6_11ea_9b59_04d3b0e71309row11_col4\" class=\"data row11 col4\" >82.781671</td>\n",
       "            </tr>\n",
       "            <tr>\n",
       "                                <td id=\"T_7d1caf64_aea6_11ea_9b59_04d3b0e71309row12_col0\" class=\"data row12 col0\" >Thomas High School</td>\n",
       "                        <td id=\"T_7d1caf64_aea6_11ea_9b59_04d3b0e71309row12_col1\" class=\"data row12 col1\" >83.728850</td>\n",
       "                        <td id=\"T_7d1caf64_aea6_11ea_9b59_04d3b0e71309row12_col2\" class=\"data row12 col2\" >84.254157</td>\n",
       "                        <td id=\"T_7d1caf64_aea6_11ea_9b59_04d3b0e71309row12_col3\" class=\"data row12 col3\" >83.585542</td>\n",
       "                        <td id=\"T_7d1caf64_aea6_11ea_9b59_04d3b0e71309row12_col4\" class=\"data row12 col4\" >83.831361</td>\n",
       "            </tr>\n",
       "            <tr>\n",
       "                                <td id=\"T_7d1caf64_aea6_11ea_9b59_04d3b0e71309row13_col0\" class=\"data row13 col0\" >Wilson High School</td>\n",
       "                        <td id=\"T_7d1caf64_aea6_11ea_9b59_04d3b0e71309row13_col1\" class=\"data row13 col1\" >83.939778</td>\n",
       "                        <td id=\"T_7d1caf64_aea6_11ea_9b59_04d3b0e71309row13_col2\" class=\"data row13 col2\" >84.021452</td>\n",
       "                        <td id=\"T_7d1caf64_aea6_11ea_9b59_04d3b0e71309row13_col3\" class=\"data row13 col3\" >83.764608</td>\n",
       "                        <td id=\"T_7d1caf64_aea6_11ea_9b59_04d3b0e71309row13_col4\" class=\"data row13 col4\" >84.317673</td>\n",
       "            </tr>\n",
       "            <tr>\n",
       "                                <td id=\"T_7d1caf64_aea6_11ea_9b59_04d3b0e71309row14_col0\" class=\"data row14 col0\" >Wright High School</td>\n",
       "                        <td id=\"T_7d1caf64_aea6_11ea_9b59_04d3b0e71309row14_col1\" class=\"data row14 col1\" >83.833333</td>\n",
       "                        <td id=\"T_7d1caf64_aea6_11ea_9b59_04d3b0e71309row14_col2\" class=\"data row14 col2\" >83.812757</td>\n",
       "                        <td id=\"T_7d1caf64_aea6_11ea_9b59_04d3b0e71309row14_col3\" class=\"data row14 col3\" >84.156322</td>\n",
       "                        <td id=\"T_7d1caf64_aea6_11ea_9b59_04d3b0e71309row14_col4\" class=\"data row14 col4\" >84.073171</td>\n",
       "            </tr>\n",
       "    </tbody></table>"
      ],
      "text/plain": [
       "<pandas.io.formats.style.Styler at 0x21fc130bf48>"
      ]
     },
     "execution_count": 92,
     "metadata": {},
     "output_type": "execute_result"
    }
   ],
   "source": [
    "student_data_reading_df = student_data[['school_name','grade','reading_score']]\n",
    "student_data_reading_grouped_9th_df = student_data_reading_df.loc[(student_data_reading_df.grade == '9th')].groupby(['school_name'])[\"reading_score\"].mean()\n",
    "student_data_reading_grouped_10th_df = student_data_reading_df.loc[(student_data_reading_df.grade == '10th')].groupby(['school_name'])[\"reading_score\"].mean()\n",
    "student_data_reading_grouped_11th_df = student_data_reading_df.loc[(student_data_reading_df.grade == '11th')].groupby(['school_name'])[\"reading_score\"].mean()\n",
    "student_data_reading_grouped_12th_df = student_data_reading_df.loc[(student_data_reading_df.grade == '12th')].groupby(['school_name'])[\"reading_score\"].mean()\n",
    "\n",
    "student_data_reading_grade_df = pd.DataFrame({\"9th\": student_data_reading_grouped_9th_df,\n",
    "                                             \"10th\": student_data_reading_grouped_10th_df,\n",
    "                                             \"11th\": student_data_reading_grouped_11th_df,\n",
    "                                             \"12th\": student_data_reading_grouped_12th_df,\n",
    "                                            })\n",
    "\n",
    "format_dict_grades = {\n",
    "    \"9th\":\"{:,.6f}\", \n",
    "    \"10th\":\"{:,.6f}\", \n",
    "    \"11th\":\"{:,.6f}\", \n",
    "    \"12th\":\"{:,.6f}\", \n",
    "    }\n",
    "\n",
    "student_data_reading_grade_df = student_data_reading_grade_df.reset_index()\n",
    "student_data_reading_grade_df = student_data_reading_grade_df.rename(columns = {\"school_name\": \"\"})\n",
    "student_data_reading_grade_df = student_data_reading_grade_df.style.format(format_dict_grades).hide_index().applymap(bold_cols, subset=pd.IndexSlice[:, ['']])\n",
    "student_data_reading_grade_df\n"
   ]
  },
  {
   "cell_type": "markdown",
   "metadata": {},
   "source": [
    "## Scores by School Spending"
   ]
  },
  {
   "cell_type": "markdown",
   "metadata": {},
   "source": [
    "* Create a table that breaks down school performances based on average Spending Ranges (Per Student). Use 4 reasonable bins to group school spending. Include in the table each of the following:\n",
    "  * Average Math Score\n",
    "  * Average Reading Score\n",
    "  * % Passing Math\n",
    "  * % Passing Reading\n",
    "  * Overall Passing Rate (Average of the above two)"
   ]
  },
  {
   "cell_type": "markdown",
   "metadata": {},
   "source": [
    "Use bins and calculate average maths and reading scores for each bin "
   ]
  },
  {
   "cell_type": "code",
   "execution_count": 71,
   "metadata": {},
   "outputs": [],
   "source": [
    "bins = [0,584, 629, 644, 675]\n",
    "group_names = [\"<$584\", \"$585-629\", \"$630-644\", \"$645-675\"]\n",
    "scores_by_spending_df = school_data_complete[[\"math_score\",\"reading_score\"]].copy()\n",
    "scores_by_spending_df[\"per_student_spend\"] = school_data_complete[\"budget\"]/school_data_complete[\"size\"]\n",
    "scores_by_spending_df[\"spending_ranges\"] = pd.cut(scores_by_spending_df[\"per_student_spend\"], bins, labels=group_names, include_lowest=True)\n",
    "scores_by_spending_grouped_df = scores_by_spending_df.groupby([\"spending_ranges\"])\n",
    "\n",
    "scores_by_spending_ranged_df = scores_by_spending_grouped_df.mean()\n"
   ]
  },
  {
   "cell_type": "markdown",
   "metadata": {},
   "source": [
    "Calculate percentage pass rate for Maths"
   ]
  },
  {
   "cell_type": "code",
   "execution_count": 72,
   "metadata": {},
   "outputs": [],
   "source": [
    "total_students_maths_series = scores_by_spending_grouped_df[\"math_score\"].count()\n",
    "student_maths_passed_df = scores_by_spending_df.loc[scores_by_spending_df.math_score >= 70].groupby([\"spending_ranges\"]).count()\n",
    "math_passed_series = student_maths_passed_df[\"math_score\"]\n",
    "math_percentage_ranged_df = pd.DataFrame((math_passed_series/total_students_maths_series)*100)\n",
    "math_percentage_ranged_df = math_percentage_ranged_df.rename(columns={\"math_score\":\"% Passing Math\"})"
   ]
  },
  {
   "cell_type": "markdown",
   "metadata": {},
   "source": [
    "Calculate percentage pass rate for reading"
   ]
  },
  {
   "cell_type": "code",
   "execution_count": 73,
   "metadata": {},
   "outputs": [],
   "source": [
    "total_students_reading_series = scores_by_spending_grouped_df[\"reading_score\"].count()\n",
    "student_readings_passed_df = scores_by_spending_df.loc[scores_by_spending_df.reading_score >= 70].groupby([\"spending_ranges\"]).count()\n",
    "reading_passed_series = student_readings_passed_df[\"reading_score\"]\n",
    "reading_percentage_ranged_df = pd.DataFrame((reading_passed_series/total_students_reading_series)*100)\n",
    "reading_percentage_ranged_df = reading_percentage_ranged_df.rename(columns={\"reading_score\":\"% Passing reading\"})"
   ]
  },
  {
   "cell_type": "markdown",
   "metadata": {},
   "source": [
    "Overall Overall Passing  is measured as percentage of students passed both maths and reading having marks >=70 marks"
   ]
  },
  {
   "cell_type": "code",
   "execution_count": 74,
   "metadata": {},
   "outputs": [
    {
     "data": {
      "text/html": [
       "<style  type=\"text/css\" >\n",
       "</style><table id=\"T_aefe26c6_aea5_11ea_87ec_04d3b0e71309\" ><thead>    <tr>        <th class=\"blank level0\" ></th>        <th class=\"col_heading level0 col0\" >Average Math Score</th>        <th class=\"col_heading level0 col1\" >Average Reading Score</th>        <th class=\"col_heading level0 col2\" >% Passing Math</th>        <th class=\"col_heading level0 col3\" >% Passing reading</th>        <th class=\"col_heading level0 col4\" >% Overall Passing</th>    </tr>    <tr>        <th class=\"index_name level0\" >spending_ranges</th>        <th class=\"blank\" ></th>        <th class=\"blank\" ></th>        <th class=\"blank\" ></th>        <th class=\"blank\" ></th>        <th class=\"blank\" ></th>    </tr></thead><tbody>\n",
       "                <tr>\n",
       "                        <th id=\"T_aefe26c6_aea5_11ea_87ec_04d3b0e71309level0_row0\" class=\"row_heading level0 row0\" ><$584</th>\n",
       "                        <td id=\"T_aefe26c6_aea5_11ea_87ec_04d3b0e71309row0_col0\" class=\"data row0 col0\" >83.36</td>\n",
       "                        <td id=\"T_aefe26c6_aea5_11ea_87ec_04d3b0e71309row0_col1\" class=\"data row0 col1\" >83.96</td>\n",
       "                        <td id=\"T_aefe26c6_aea5_11ea_87ec_04d3b0e71309row0_col2\" class=\"data row0 col2\" >93.70</td>\n",
       "                        <td id=\"T_aefe26c6_aea5_11ea_87ec_04d3b0e71309row0_col3\" class=\"data row0 col3\" >96.69</td>\n",
       "                        <td id=\"T_aefe26c6_aea5_11ea_87ec_04d3b0e71309row0_col4\" class=\"data row0 col4\" >90.64</td>\n",
       "            </tr>\n",
       "            <tr>\n",
       "                        <th id=\"T_aefe26c6_aea5_11ea_87ec_04d3b0e71309level0_row1\" class=\"row_heading level0 row1\" >$585-629</th>\n",
       "                        <td id=\"T_aefe26c6_aea5_11ea_87ec_04d3b0e71309row1_col0\" class=\"data row1 col0\" >79.98</td>\n",
       "                        <td id=\"T_aefe26c6_aea5_11ea_87ec_04d3b0e71309row1_col1\" class=\"data row1 col1\" >82.31</td>\n",
       "                        <td id=\"T_aefe26c6_aea5_11ea_87ec_04d3b0e71309row1_col2\" class=\"data row1 col2\" >79.11</td>\n",
       "                        <td id=\"T_aefe26c6_aea5_11ea_87ec_04d3b0e71309row1_col3\" class=\"data row1 col3\" >88.51</td>\n",
       "                        <td id=\"T_aefe26c6_aea5_11ea_87ec_04d3b0e71309row1_col4\" class=\"data row1 col4\" >70.94</td>\n",
       "            </tr>\n",
       "            <tr>\n",
       "                        <th id=\"T_aefe26c6_aea5_11ea_87ec_04d3b0e71309level0_row2\" class=\"row_heading level0 row2\" >$630-644</th>\n",
       "                        <td id=\"T_aefe26c6_aea5_11ea_87ec_04d3b0e71309row2_col0\" class=\"data row2 col0\" >77.82</td>\n",
       "                        <td id=\"T_aefe26c6_aea5_11ea_87ec_04d3b0e71309row2_col1\" class=\"data row2 col1\" >81.30</td>\n",
       "                        <td id=\"T_aefe26c6_aea5_11ea_87ec_04d3b0e71309row2_col2\" class=\"data row2 col2\" >70.62</td>\n",
       "                        <td id=\"T_aefe26c6_aea5_11ea_87ec_04d3b0e71309row2_col3\" class=\"data row2 col3\" >82.60</td>\n",
       "                        <td id=\"T_aefe26c6_aea5_11ea_87ec_04d3b0e71309row2_col4\" class=\"data row2 col4\" >58.84</td>\n",
       "            </tr>\n",
       "            <tr>\n",
       "                        <th id=\"T_aefe26c6_aea5_11ea_87ec_04d3b0e71309level0_row3\" class=\"row_heading level0 row3\" >$645-675</th>\n",
       "                        <td id=\"T_aefe26c6_aea5_11ea_87ec_04d3b0e71309row3_col0\" class=\"data row3 col0\" >77.05</td>\n",
       "                        <td id=\"T_aefe26c6_aea5_11ea_87ec_04d3b0e71309row3_col1\" class=\"data row3 col1\" >81.01</td>\n",
       "                        <td id=\"T_aefe26c6_aea5_11ea_87ec_04d3b0e71309row3_col2\" class=\"data row3 col2\" >66.23</td>\n",
       "                        <td id=\"T_aefe26c6_aea5_11ea_87ec_04d3b0e71309row3_col3\" class=\"data row3 col3\" >81.11</td>\n",
       "                        <td id=\"T_aefe26c6_aea5_11ea_87ec_04d3b0e71309row3_col4\" class=\"data row3 col4\" >53.53</td>\n",
       "            </tr>\n",
       "    </tbody></table>"
      ],
      "text/plain": [
       "<pandas.io.formats.style.Styler at 0x21fc2a71c08>"
      ]
     },
     "execution_count": 74,
     "metadata": {},
     "output_type": "execute_result"
    }
   ],
   "source": [
    "total_students_overall_series = scores_by_spending_grouped_df[\"math_score\"].count()\n",
    "overall_pass_df = scores_by_spending_df.loc[(scores_by_spending_df.math_score >= 70) & (scores_by_spending_df.reading_score >= 70)].groupby([\"spending_ranges\"]).count()\n",
    "overall_pass_series = overall_pass_df[\"math_score\"]\n",
    "\n",
    "overall_percentage_df = pd.DataFrame((overall_pass_series/total_students_overall_series)*100)\n",
    "overall_percentage_df = overall_percentage_df.rename(columns = {\n",
    "    \"math_score\":\"% Overall Passing\"\n",
    "    })\n",
    "\n",
    "percentage_df=pd.merge(math_percentage_ranged_df,reading_percentage_ranged_df,on=\"spending_ranges\")\n",
    "percentage_df=pd.merge(percentage_df,overall_percentage_df,on=\"spending_ranges\")\n",
    "percentage_df=pd.merge(scores_by_spending_ranged_df,percentage_df,on=\"spending_ranges\") \n",
    "percentage_df = percentage_df.rename(columns = {\"math_score\":\"Average Math Score\",\n",
    "                      \"reading_score\" : \"Average Reading Score\"})\n",
    "del percentage_df[\"per_student_spend\"]\n",
    "\n",
    "format_dict_scores = {\n",
    "    \"Average Math Score\":\"{:,.2f}\", \n",
    "    \"Average Reading Score\":\"{:,.2f}\", \n",
    "    \"% Passing Math\":\"{:,.2f}\", \n",
    "    \"% Passing reading\":\"{:,.2f}\", \n",
    "    \"% Overall Passing\":\"{:,.2f}\"\n",
    "    }\n",
    "\n",
    "percentage_df = percentage_df.style.format(format_dict_scores)\n",
    "percentage_df"
   ]
  },
  {
   "cell_type": "markdown",
   "metadata": {},
   "source": [
    "## Scores by School Size"
   ]
  },
  {
   "cell_type": "markdown",
   "metadata": {},
   "source": [
    "* Perform the same operations as above, based on school size."
   ]
  },
  {
   "attachments": {},
   "cell_type": "markdown",
   "metadata": {},
   "source": [
    "In defining schools as Large, Medium and Small, used the Q1 and Q3 figures of the student count distribution of schools as thresholds in defining them. \n",
    "\n",
    "df_dist = school_data[[\"school_name\",\"size\"]]\n",
    "df_dist.describe()\n",
    "Q1 = 1698\n",
    "Q3 = 3474\n",
    "max = 4976\n"
   ]
  },
  {
   "cell_type": "code",
   "execution_count": 75,
   "metadata": {
    "scrolled": true
   },
   "outputs": [],
   "source": [
    "\n",
    "bins = [0,1698, 3474, 4977]\n",
    "group_names = [\"Small (<1698)\", \"Medium (1699-3474)\", \"Large (3475>)\"]\n",
    "\n",
    "scores_by_size_df = school_data_complete[[\"math_score\",\"reading_score\",\"size\"]].copy()\n",
    "scores_by_size_df[\"School Size\"] = pd.cut(scores_by_size_df[\"size\"], bins, labels=group_names, include_lowest=True)\n",
    "del scores_by_size_df[\"size\"]\n",
    "scores_by_size_grouped_df = scores_by_size_df.groupby([\"School Size\"])\n",
    "scores_by_size_ranged_df = scores_by_size_grouped_df.mean()\n"
   ]
  },
  {
   "cell_type": "markdown",
   "metadata": {},
   "source": [
    "Calculate percentage passed on reading"
   ]
  },
  {
   "cell_type": "code",
   "execution_count": 76,
   "metadata": {},
   "outputs": [],
   "source": [
    "total_students_maths_series = scores_by_size_grouped_df[\"math_score\"].count()\n",
    "student_maths_passed_df = scores_by_size_df.loc[scores_by_size_df.math_score >= 70].groupby([\"School Size\"]).count()\n",
    "math_passed_series = student_maths_passed_df[\"math_score\"]\n",
    "math_percentage_ranged_df = pd.DataFrame((math_passed_series/total_students_maths_series)*100)\n",
    "math_percentage_ranged_df = math_percentage_ranged_df.rename(columns={\"math_score\":\"% Passing Math\"})\n"
   ]
  },
  {
   "cell_type": "markdown",
   "metadata": {},
   "source": [
    "Calculate percentage passed on reading"
   ]
  },
  {
   "cell_type": "code",
   "execution_count": 77,
   "metadata": {},
   "outputs": [],
   "source": [
    "total_students_reading_series = scores_by_size_grouped_df[\"reading_score\"].count()\n",
    "student_readings_passed_df = scores_by_size_df.loc[scores_by_size_df.reading_score >= 70].groupby([\"School Size\"]).count()\n",
    "reading_passed_series = student_readings_passed_df[\"reading_score\"]\n",
    "reading_percentage_ranged_df = pd.DataFrame((reading_passed_series/total_students_reading_series)*100)\n",
    "reading_percentage_ranged_df = reading_percentage_ranged_df.rename(columns={\"reading_score\":\"% Passing reading\"})"
   ]
  },
  {
   "cell_type": "markdown",
   "metadata": {},
   "source": [
    "Calculate % passed both maths and reading based on school size"
   ]
  },
  {
   "cell_type": "code",
   "execution_count": 79,
   "metadata": {},
   "outputs": [
    {
     "data": {
      "text/html": [
       "<style  type=\"text/css\" >\n",
       "</style><table id=\"T_c106d3c6_aea5_11ea_8634_04d3b0e71309\" ><thead>    <tr>        <th class=\"blank level0\" ></th>        <th class=\"col_heading level0 col0\" >Average Math Score</th>        <th class=\"col_heading level0 col1\" >Average Reading Score</th>        <th class=\"col_heading level0 col2\" >% Passing Math</th>        <th class=\"col_heading level0 col3\" >% Passing reading</th>        <th class=\"col_heading level0 col4\" >% Overall Passing</th>    </tr>    <tr>        <th class=\"index_name level0\" >School Size</th>        <th class=\"blank\" ></th>        <th class=\"blank\" ></th>        <th class=\"blank\" ></th>        <th class=\"blank\" ></th>        <th class=\"blank\" ></th>    </tr></thead><tbody>\n",
       "                <tr>\n",
       "                        <th id=\"T_c106d3c6_aea5_11ea_8634_04d3b0e71309level0_row0\" class=\"row_heading level0 row0\" >Small (<1698)</th>\n",
       "                        <td id=\"T_c106d3c6_aea5_11ea_8634_04d3b0e71309row0_col0\" class=\"data row0 col0\" >83.52</td>\n",
       "                        <td id=\"T_c106d3c6_aea5_11ea_8634_04d3b0e71309row0_col1\" class=\"data row0 col1\" >83.88</td>\n",
       "                        <td id=\"T_c106d3c6_aea5_11ea_8634_04d3b0e71309row0_col2\" class=\"data row0 col2\" >93.52</td>\n",
       "                        <td id=\"T_c106d3c6_aea5_11ea_8634_04d3b0e71309row0_col3\" class=\"data row0 col3\" >96.86</td>\n",
       "                        <td id=\"T_c106d3c6_aea5_11ea_8634_04d3b0e71309row0_col4\" class=\"data row0 col4\" >90.58</td>\n",
       "            </tr>\n",
       "            <tr>\n",
       "                        <th id=\"T_c106d3c6_aea5_11ea_8634_04d3b0e71309level0_row1\" class=\"row_heading level0 row1\" >Medium (1699-3474)</th>\n",
       "                        <td id=\"T_c106d3c6_aea5_11ea_8634_04d3b0e71309row1_col0\" class=\"data row1 col0\" >79.89</td>\n",
       "                        <td id=\"T_c106d3c6_aea5_11ea_8634_04d3b0e71309row1_col1\" class=\"data row1 col1\" >82.40</td>\n",
       "                        <td id=\"T_c106d3c6_aea5_11ea_8634_04d3b0e71309row1_col2\" class=\"data row1 col2\" >79.46</td>\n",
       "                        <td id=\"T_c106d3c6_aea5_11ea_8634_04d3b0e71309row1_col3\" class=\"data row1 col3\" >88.05</td>\n",
       "                        <td id=\"T_c106d3c6_aea5_11ea_8634_04d3b0e71309row1_col4\" class=\"data row1 col4\" >71.08</td>\n",
       "            </tr>\n",
       "            <tr>\n",
       "                        <th id=\"T_c106d3c6_aea5_11ea_8634_04d3b0e71309level0_row2\" class=\"row_heading level0 row2\" >Large (3475>)</th>\n",
       "                        <td id=\"T_c106d3c6_aea5_11ea_8634_04d3b0e71309row2_col0\" class=\"data row2 col0\" >77.07</td>\n",
       "                        <td id=\"T_c106d3c6_aea5_11ea_8634_04d3b0e71309row2_col1\" class=\"data row2 col1\" >80.93</td>\n",
       "                        <td id=\"T_c106d3c6_aea5_11ea_8634_04d3b0e71309row2_col2\" class=\"data row2 col2\" >66.47</td>\n",
       "                        <td id=\"T_c106d3c6_aea5_11ea_8634_04d3b0e71309row2_col3\" class=\"data row2 col3\" >81.11</td>\n",
       "                        <td id=\"T_c106d3c6_aea5_11ea_8634_04d3b0e71309row2_col4\" class=\"data row2 col4\" >53.72</td>\n",
       "            </tr>\n",
       "    </tbody></table>"
      ],
      "text/plain": [
       "<pandas.io.formats.style.Styler at 0x21fc0b9cd08>"
      ]
     },
     "execution_count": 79,
     "metadata": {},
     "output_type": "execute_result"
    }
   ],
   "source": [
    "total_students_overall_series = scores_by_size_grouped_df[\"math_score\"].count()\n",
    "overall_pass_df = scores_by_size_df.loc[(scores_by_size_df.math_score >= 70) & (scores_by_size_df.reading_score >= 70)].groupby([\"School Size\"]).count()\n",
    "overall_pass_series = overall_pass_df[\"math_score\"]\n",
    "\n",
    "overall_percentage_df = pd.DataFrame((overall_pass_series/total_students_overall_series)*100)\n",
    "overall_percentage_df = overall_percentage_df.rename(columns = {\n",
    "    \"math_score\":\"% Overall Passing\"\n",
    "    })\n",
    "\n",
    "percentage_df=pd.merge(math_percentage_ranged_df,reading_percentage_ranged_df,on=\"School Size\")\n",
    "percentage_df=pd.merge(percentage_df,overall_percentage_df,on=\"School Size\")\n",
    "percentage_df=pd.merge(scores_by_size_ranged_df,percentage_df,on=\"School Size\") \n",
    "percentage_df = percentage_df.rename(columns = {\"math_score\":\"Average Math Score\",\n",
    "                      \"reading_score\" : \"Average Reading Score\"})\n",
    "\n",
    "format_dict_scores = {\n",
    "    \"Average Math Score\":\"{:,.2f}\", \n",
    "    \"Average Reading Score\":\"{:,.2f}\", \n",
    "    \"% Passing Math\":\"{:,.2f}\", \n",
    "    \"% Passing reading\":\"{:,.2f}\", \n",
    "    \"% Overall Passing\":\"{:,.2f}\"\n",
    "    }\n",
    "\n",
    "percentage_df = percentage_df.style.format(format_dict_scores)\n",
    "percentage_df"
   ]
  },
  {
   "cell_type": "markdown",
   "metadata": {},
   "source": [
    "## Scores by School Type"
   ]
  },
  {
   "cell_type": "markdown",
   "metadata": {},
   "source": [
    "* Perform the same operations as above, based on school type"
   ]
  },
  {
   "cell_type": "markdown",
   "metadata": {},
   "source": [
    "Calculate maths and reading average scores based on School Type"
   ]
  },
  {
   "cell_type": "code",
   "execution_count": 80,
   "metadata": {},
   "outputs": [],
   "source": [
    "scores_by_type_df = school_data_complete[[\"math_score\",\"reading_score\",\"type\"]].copy()\n",
    "scores_by_type_df = scores_by_type_df.rename(columns = {\"type\":\"School Type\"})\n",
    "scores_by_type_grouped_df = scores_by_type_df.groupby([\"School Type\"])\n",
    "scores_by_type_ranged_df = scores_by_type_grouped_df.mean()"
   ]
  },
  {
   "cell_type": "markdown",
   "metadata": {},
   "source": [
    "Calculate % passing rate of maths"
   ]
  },
  {
   "cell_type": "code",
   "execution_count": 81,
   "metadata": {},
   "outputs": [],
   "source": [
    "total_students_maths_series = scores_by_type_grouped_df[\"math_score\"].count()\n",
    "student_maths_passed_df = scores_by_type_df.loc[scores_by_type_df.math_score >= 70].groupby([\"School Type\"]).count()\n",
    "math_passed_series = student_maths_passed_df[\"math_score\"]\n",
    "math_percentage_ranged_df = pd.DataFrame((math_passed_series/total_students_maths_series)*100)\n",
    "math_percentage_ranged_df = math_percentage_ranged_df.rename(columns={\"math_score\":\"% Passing Math\"})\n"
   ]
  },
  {
   "cell_type": "markdown",
   "metadata": {},
   "source": [
    "Calculate % passing rate of reading"
   ]
  },
  {
   "cell_type": "code",
   "execution_count": 85,
   "metadata": {},
   "outputs": [],
   "source": [
    "total_students_reading_series = scores_by_type_grouped_df[\"reading_score\"].count()\n",
    "student_readings_passed_df = scores_by_type_df.loc[scores_by_type_df.reading_score >= 70].groupby([\"School Type\"]).count()\n",
    "reading_passed_series = student_readings_passed_df[\"reading_score\"]\n",
    "reading_percentage_ranged_df = pd.DataFrame((reading_passed_series/total_students_reading_series)*100)\n",
    "reading_percentage_ranged_df = reading_percentage_ranged_df.rename(columns={\"reading_score\":\"% Passing reading\"})"
   ]
  },
  {
   "cell_type": "markdown",
   "metadata": {},
   "source": [
    "Calculate % passing of both maths and reading "
   ]
  },
  {
   "cell_type": "code",
   "execution_count": 84,
   "metadata": {},
   "outputs": [
    {
     "data": {
      "text/html": [
       "<style  type=\"text/css\" >\n",
       "</style><table id=\"T_26741786_aea6_11ea_8066_04d3b0e71309\" ><thead>    <tr>        <th class=\"blank level0\" ></th>        <th class=\"col_heading level0 col0\" >Average Math Score</th>        <th class=\"col_heading level0 col1\" >Average Reading Score</th>        <th class=\"col_heading level0 col2\" >% Passing Math</th>        <th class=\"col_heading level0 col3\" >% Passing reading</th>        <th class=\"col_heading level0 col4\" >% Overall Passing</th>    </tr>    <tr>        <th class=\"index_name level0\" >School Type</th>        <th class=\"blank\" ></th>        <th class=\"blank\" ></th>        <th class=\"blank\" ></th>        <th class=\"blank\" ></th>        <th class=\"blank\" ></th>    </tr></thead><tbody>\n",
       "                <tr>\n",
       "                        <th id=\"T_26741786_aea6_11ea_8066_04d3b0e71309level0_row0\" class=\"row_heading level0 row0\" >Charter</th>\n",
       "                        <td id=\"T_26741786_aea6_11ea_8066_04d3b0e71309row0_col0\" class=\"data row0 col0\" >83.41</td>\n",
       "                        <td id=\"T_26741786_aea6_11ea_8066_04d3b0e71309row0_col1\" class=\"data row0 col1\" >83.90</td>\n",
       "                        <td id=\"T_26741786_aea6_11ea_8066_04d3b0e71309row0_col2\" class=\"data row0 col2\" >93.70</td>\n",
       "                        <td id=\"T_26741786_aea6_11ea_8066_04d3b0e71309row0_col3\" class=\"data row0 col3\" >96.65</td>\n",
       "                        <td id=\"T_26741786_aea6_11ea_8066_04d3b0e71309row0_col4\" class=\"data row0 col4\" >90.56</td>\n",
       "            </tr>\n",
       "            <tr>\n",
       "                        <th id=\"T_26741786_aea6_11ea_8066_04d3b0e71309level0_row1\" class=\"row_heading level0 row1\" >District</th>\n",
       "                        <td id=\"T_26741786_aea6_11ea_8066_04d3b0e71309row1_col0\" class=\"data row1 col0\" >76.99</td>\n",
       "                        <td id=\"T_26741786_aea6_11ea_8066_04d3b0e71309row1_col1\" class=\"data row1 col1\" >80.96</td>\n",
       "                        <td id=\"T_26741786_aea6_11ea_8066_04d3b0e71309row1_col2\" class=\"data row1 col2\" >66.52</td>\n",
       "                        <td id=\"T_26741786_aea6_11ea_8066_04d3b0e71309row1_col3\" class=\"data row1 col3\" >80.91</td>\n",
       "                        <td id=\"T_26741786_aea6_11ea_8066_04d3b0e71309row1_col4\" class=\"data row1 col4\" >53.70</td>\n",
       "            </tr>\n",
       "    </tbody></table>"
      ],
      "text/plain": [
       "<pandas.io.formats.style.Styler at 0x21fc0cce6c8>"
      ]
     },
     "execution_count": 84,
     "metadata": {},
     "output_type": "execute_result"
    }
   ],
   "source": [
    "total_students_overall_series = scores_by_type_grouped_df[\"math_score\"].count()\n",
    "overall_pass_df = scores_by_type_df.loc[(scores_by_type_df.math_score >= 70) & (scores_by_type_df.reading_score >= 70)].groupby([\"School Type\"]).count()\n",
    "overall_pass_series = overall_pass_df[\"math_score\"]\n",
    "\n",
    "overall_percentage_df = pd.DataFrame((overall_pass_series/total_students_overall_series)*100)\n",
    "overall_percentage_df = overall_percentage_df.rename(columns = {\n",
    "    \"math_score\":\"% Overall Passing\"\n",
    "    })\n",
    "\n",
    "\n",
    "percentage_df=pd.merge(math_percentage_ranged_df,reading_percentage_ranged_df,on=\"School Type\")\n",
    "percentage_df=pd.merge(percentage_df,overall_percentage_df,on=\"School Type\")\n",
    "percentage_df=pd.merge(scores_by_type_ranged_df,percentage_df,on=\"School Type\") \n",
    "percentage_df = percentage_df.rename(columns = {\"math_score\":\"Average Math Score\",\n",
    "                      \"reading_score\" : \"Average Reading Score\"})\n",
    "\n",
    "format_dict_scores = {\n",
    "    \"Average Math Score\":\"{:,.2f}\", \n",
    "    \"Average Reading Score\":\"{:,.2f}\", \n",
    "    \"% Passing Math\":\"{:,.2f}\", \n",
    "    \"% Passing reading\":\"{:,.2f}\", \n",
    "    \"% Overall Passing\":\"{:,.2f}\"\n",
    "    }\n",
    "\n",
    "percentage_df = percentage_df.style.format(format_dict_scores)\n",
    "percentage_df"
   ]
  }
 ],
 "metadata": {
  "anaconda-cloud": {},
  "kernel_info": {
   "name": "python3"
  },
  "kernelspec": {
   "display_name": "Python 3",
   "language": "python",
   "name": "python3"
  },
  "language_info": {
   "codemirror_mode": {
    "name": "ipython",
    "version": 3
   },
   "file_extension": ".py",
   "mimetype": "text/x-python",
   "name": "python",
   "nbconvert_exporter": "python",
   "pygments_lexer": "ipython3",
   "version": "3.7.4"
  },
  "latex_envs": {
   "LaTeX_envs_menu_present": true,
   "autoclose": false,
   "autocomplete": true,
   "bibliofile": "biblio.bib",
   "cite_by": "apalike",
   "current_citInitial": 1,
   "eqLabelWithNumbers": true,
   "eqNumInitial": 1,
   "hotkeys": {
    "equation": "Ctrl-E",
    "itemize": "Ctrl-I"
   },
   "labels_anchors": false,
   "latex_user_defs": false,
   "report_style_numbering": false,
   "user_envs_cfg": false
  },
  "nteract": {
   "version": "0.8.4"
  }
 },
 "nbformat": 4,
 "nbformat_minor": 1
}
